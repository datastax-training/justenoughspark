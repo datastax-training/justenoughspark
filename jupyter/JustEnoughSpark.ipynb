{
 "cells": [
  {
   "cell_type": "markdown",
   "metadata": {},
   "source": [
    "# Just Enough Spark - a Jupyter Notebook\n",
    "\n",
    "You can execute each statement to generate the output, or choose any option in the \"Cell\" menu. Modify the statements to try new things. \n",
    "\n",
    "\n",
    "## An RDD is an immutable collection\n",
    "* Most methods set up the execution graph for spark\n",
    "* Action methods execute the graph\n",
    "* partial results can be cached for reuse\n",
    "\n",
    "*RDDs are construction with methods on the sparkContext (sc) object*"
   ]
  },
  {
   "cell_type": "markdown",
   "metadata": {},
   "source": [
    "### RDDs can be created from files, Cassandra tables, Scala collections, and many other sources\n",
    "Let's first look at creating an an rdd from a Scala object.  We use the parallelize function"
   ]
  },
  {
   "cell_type": "code",
   "execution_count": 2,
   "metadata": {
    "collapsed": false
   },
   "outputs": [],
   "source": [
    "val myrdd = sc.parallelize(Seq(4,5,6))"
   ]
  },
  {
   "cell_type": "code",
   "execution_count": 3,
   "metadata": {
    "collapsed": false
   },
   "outputs": [
    {
     "data": {
      "text/plain": [
       "ParallelCollectionRDD[2] at parallelize at <console>:17"
      ]
     },
     "execution_count": 3,
     "metadata": {},
     "output_type": "execute_result"
    }
   ],
   "source": [
    "myrdd"
   ]
  },
  {
   "cell_type": "markdown",
   "metadata": {},
   "source": [
    "Now filter out the even numbers"
   ]
  },
  {
   "cell_type": "code",
   "execution_count": 5,
   "metadata": {
    "collapsed": false
   },
   "outputs": [
    {
     "data": {
      "text/plain": [
       "MapPartitionsRDD[4] at filter at <console>:19"
      ]
     },
     "execution_count": 5,
     "metadata": {},
     "output_type": "execute_result"
    }
   ],
   "source": [
    "val evenNumbers = myrdd.filter( x => x % 2 == 0)\n",
    "evenNumbers"
   ]
  },
  {
   "cell_type": "markdown",
   "metadata": {},
   "source": [
    "Note that nothing really happened - we set up the execution graph.  We'll use the *action* method *collect* to execute it and dump all of the results into an array.  "
   ]
  },
  {
   "cell_type": "code",
   "execution_count": 6,
   "metadata": {
    "collapsed": false
   },
   "outputs": [
    {
     "data": {
      "text/plain": [
       "Array(4, 6)"
      ]
     },
     "execution_count": 6,
     "metadata": {},
     "output_type": "execute_result"
    }
   ],
   "source": [
    "evenNumbers.collect"
   ]
  },
  {
   "cell_type": "markdown",
   "metadata": {},
   "source": [
    "## Creating RDDs from Cassandra Tables\n",
    "* Can add a where clause to push down filter\n",
    "* Creates and RDD of CassandraRow objects\n",
    "* .as will map it to a case class or tuples for ease of use\n"
   ]
  },
  {
   "cell_type": "code",
   "execution_count": 9,
   "metadata": {
    "collapsed": false
   },
   "outputs": [
    {
     "data": {
      "text/plain": [
       "CassandraTableScanRDD[6] at RDD at CassandraRDD.scala:15"
      ]
     },
     "execution_count": 9,
     "metadata": {},
     "output_type": "execute_result"
    }
   ],
   "source": [
    "val tracks = sc.cassandraTable(\"music\",\"tracks_by_album\")\n",
    "tracks"
   ]
  },
  {
   "cell_type": "code",
   "execution_count": 10,
   "metadata": {
    "collapsed": false
   },
   "outputs": [
    {
     "data": {
      "text/plain": [
       "Array(CassandraRow{album_title: Duos For Violin and Cello, album_year: 2000, track_number: 1, album_genre: Classical, performer: Nigel Kennedy, track_title: Sonata for Violin and Cello - Allegro}, CassandraRow{album_title: Duos For Violin and Cello, album_year: 2000, track_number: 2, album_genre: Classical, performer: Nigel Kennedy, track_title: Sonata for Violin and Cello - Tres vif})"
      ]
     },
     "execution_count": 10,
     "metadata": {},
     "output_type": "execute_result"
    }
   ],
   "source": [
    "tracks.take(2)"
   ]
  },
  {
   "cell_type": "markdown",
   "metadata": {},
   "source": [
    "### get the album and track in a tuple.  This is the new syntax:"
   ]
  },
  {
   "cell_type": "code",
   "execution_count": 14,
   "metadata": {
    "collapsed": false
   },
   "outputs": [],
   "source": [
    "val albumTracks = sc.cassandraTable[(String,String)](\"music\",\"tracks_by_album\").select(\"album_title\",\"track_title\")"
   ]
  },
  {
   "cell_type": "markdown",
   "metadata": {},
   "source": [
    "The first 10 rows as tuples ...."
   ]
  },
  {
   "cell_type": "code",
   "execution_count": 17,
   "metadata": {
    "collapsed": false
   },
   "outputs": [
    {
     "name": "stdout",
     "output_type": "stream",
     "text": [
      "(Duos For Violin and Cello,Sonata for Violin and Cello - Allegro)\n",
      "(Duos For Violin and Cello,Sonata for Violin and Cello - Tres vif)\n",
      "(Duos For Violin and Cello,Sonata for Violin and Cello - Lent)\n",
      "(Duos For Violin and Cello,Sonata for Violin and Cello - Vif, avec entrain)\n",
      "(Duos For Violin and Cello,Passacaglia)\n",
      "(Duos For Violin and Cello,Duo for Violin and Cello Op. 7 - Allegro serioso, non troppo)\n",
      "(Duos For Violin and Cello,Duo for Violin and Cello Op. 7 - Adagio-Andante-Tempo I)\n",
      "(Duos For Violin and Cello,Duo for Violin and Cello Op. 7 - Maestoso e largamente, ma non troppo lento-Presto)\n",
      "(Duos For Violin and Cello,Two-Part Intervention No. 6 in E)\n",
      "(Golden Boy Elvis,She's Not You)\n"
     ]
    }
   ],
   "source": [
    "albumTracks.take(10) foreach println"
   ]
  },
  {
   "cell_type": "markdown",
   "metadata": {},
   "source": [
    "### Create RDDs from Cassandra Tables and return an RDD of case class objects\n",
    ".as() will map the rdd to a case class\n"
   ]
  },
  {
   "cell_type": "code",
   "execution_count": 18,
   "metadata": {
    "collapsed": true
   },
   "outputs": [],
   "source": [
    "case class Tracks(album_title: String,\n",
    "year:Int, number:Int,\n",
    "album_genre: String,\n",
    "performer: String,\n",
    "track_title: String)"
   ]
  },
  {
   "cell_type": "code",
   "execution_count": 20,
   "metadata": {
    "collapsed": false
   },
   "outputs": [
    {
     "data": {
      "text/plain": [
       "CassandraTableScanRDD[19] at RDD at CassandraRDD.scala:15"
      ]
     },
     "execution_count": 20,
     "metadata": {},
     "output_type": "execute_result"
    }
   ],
   "source": [
    "val tracks = sc.cassandraTable(\"music\",\"tracks_by_album\").as(Tracks)\n",
    "tracks"
   ]
  },
  {
   "cell_type": "code",
   "execution_count": 25,
   "metadata": {
    "collapsed": false
   },
   "outputs": [
    {
     "name": "stdout",
     "output_type": "stream",
     "text": [
      "Tracks(Duos For Violin and Cello,2000,1,Classical,Nigel Kennedy,Sonata for Violin and Cello - Allegro)\n",
      "Tracks(Duos For Violin and Cello,2000,2,Classical,Nigel Kennedy,Sonata for Violin and Cello - Tres vif)\n",
      "Tracks(Duos For Violin and Cello,2000,3,Classical,Nigel Kennedy,Sonata for Violin and Cello - Lent)\n",
      "Tracks(Duos For Violin and Cello,2000,4,Classical,Nigel Kennedy,Sonata for Violin and Cello - Vif, avec entrain)\n",
      "Tracks(Duos For Violin and Cello,2000,5,Classical,Nigel Kennedy,Passacaglia)\n"
     ]
    }
   ],
   "source": [
    "tracks take 5 foreach println"
   ]
  },
  {
   "cell_type": "markdown",
   "metadata": {},
   "source": [
    "## Some other useful actions ...\n",
    "* first – same as take(1)(0)\n",
    "* collect – bring everything back to the caller as a scala array\n",
    "* saveToCassandra\n",
    "* count\n"
   ]
  },
  {
   "cell_type": "code",
   "execution_count": 26,
   "metadata": {
    "collapsed": false
   },
   "outputs": [
    {
     "data": {
      "text/plain": [
       "Tracks(Duos For Violin and Cello,2000,1,Classical,Nigel Kennedy,Sonata for Violin and Cello - Allegro)"
      ]
     },
     "execution_count": 26,
     "metadata": {},
     "output_type": "execute_result"
    }
   ],
   "source": [
    "tracks.first"
   ]
  },
  {
   "cell_type": "code",
   "execution_count": 27,
   "metadata": {
    "collapsed": false
   },
   "outputs": [
    {
     "data": {
      "text/plain": [
       "36751"
      ]
     },
     "execution_count": 27,
     "metadata": {},
     "output_type": "execute_result"
    }
   ],
   "source": [
    "tracks.count"
   ]
  },
  {
   "cell_type": "markdown",
   "metadata": {},
   "source": [
    "## Some Typical Transformations\n",
    "filter, map, distinct"
   ]
  },
  {
   "cell_type": "markdown",
   "metadata": {},
   "source": [
    "Show tracks from 1989"
   ]
  },
  {
   "cell_type": "code",
   "execution_count": 28,
   "metadata": {
    "collapsed": false
   },
   "outputs": [
    {
     "name": "stdout",
     "output_type": "stream",
     "text": [
      "Tracks(CD Type Thing,1989,1,Rock,Big Drill Car,16 Lines)\n",
      "Tracks(CD Type Thing,1989,2,Rock,Big Drill Car,Clamato #11)\n",
      "Tracks(CD Type Thing,1989,3,Rock,Big Drill Car,No Need)\n",
      "Tracks(CD Type Thing,1989,4,Rock,Big Drill Car,Brody)\n",
      "Tracks(CD Type Thing,1989,5,Rock,Big Drill Car,In Green Fields)\n",
      "Tracks(CD Type Thing,1989,6,Rock,Big Drill Car,Diamond Earrings)\n",
      "Tracks(CD Type Thing,1989,7,Rock,Big Drill Car,Reform Before)\n",
      "Tracks(CD Type Thing,1989,8,Rock,Big Drill Car,Head On)\n",
      "Tracks(CD Type Thing,1989,9,Rock,Big Drill Car,Swanson)\n",
      "Tracks(CD Type Thing,1989,10,Rock,Big Drill Car,About Us)\n"
     ]
    }
   ],
   "source": [
    "tracks.filter(x => x.year == 1989).take(10).foreach(println)\n"
   ]
  },
  {
   "cell_type": "markdown",
   "metadata": {},
   "source": [
    "**This can also be accomplished with a .where function on the cassandraTable to push the work into Cassandra**"
   ]
  },
  {
   "cell_type": "markdown",
   "metadata": {},
   "source": [
    "map the cassandra table to 2-tuples "
   ]
  },
  {
   "cell_type": "code",
   "execution_count": 30,
   "metadata": {
    "collapsed": false
   },
   "outputs": [
    {
     "name": "stdout",
     "output_type": "stream",
     "text": [
      "(Duos For Violin and Cello,Sonata for Violin and Cello - Allegro)\n",
      "(Duos For Violin and Cello,Sonata for Violin and Cello - Tres vif)\n",
      "(Duos For Violin and Cello,Sonata for Violin and Cello - Lent)\n",
      "(Duos For Violin and Cello,Sonata for Violin and Cello - Vif, avec entrain)\n",
      "(Duos For Violin and Cello,Passacaglia)\n"
     ]
    }
   ],
   "source": [
    "tracks.map(x =>(x.album_title, x.track_title)).\n",
    "   take(5).foreach(println)"
   ]
  },
  {
   "cell_type": "markdown",
   "metadata": {},
   "source": [
    "Combine operations into a single graphe or even a single statement"
   ]
  },
  {
   "cell_type": "code",
   "execution_count": 31,
   "metadata": {
    "collapsed": false
   },
   "outputs": [
    {
     "name": "stdout",
     "output_type": "stream",
     "text": [
      "(Hits and Rarities,Fever)\n",
      "(Hits and Rarities,You're the Boss)\n",
      "(Hits and Rarities,There'll Be Some Changes Made)\n",
      "(Hits and Rarities,I Was Only Kidding)\n",
      "(Hits and Rarities,Begin the Beguine)\n"
     ]
    }
   ],
   "source": [
    "tracks.filter(x => x.year == 1990).map(x => (x.album_title, x.track_title)).take(5).foreach(println)\n"
   ]
  },
  {
   "cell_type": "markdown",
   "metadata": {},
   "source": [
    "## Pair RDDs – Special operations on RDD of  2-Tuples\n",
    "* Think of each tuple as (Key,Value)\n",
    "* countByKey\n",
    "* groupByKey\n",
    "* reduceByKey\n"
   ]
  },
  {
   "cell_type": "code",
   "execution_count": 33,
   "metadata": {
    "collapsed": true
   },
   "outputs": [],
   "source": [
    "val albumTracks = tracks.map(t => (t.album_title, t.track_title))"
   ]
  },
  {
   "cell_type": "markdown",
   "metadata": {},
   "source": [
    "How many tracks in each album?"
   ]
  },
  {
   "cell_type": "code",
   "execution_count": 36,
   "metadata": {
    "collapsed": false
   },
   "outputs": [],
   "source": [
    "val trackTitles = albumTracks.countByKey"
   ]
  },
  {
   "cell_type": "markdown",
   "metadata": {},
   "source": [
    "Why not sort the results descending? toList turns the map into a list of tuples and sort by the negative of the count"
   ]
  },
  {
   "cell_type": "code",
   "execution_count": 40,
   "metadata": {
    "collapsed": false
   },
   "outputs": [
    {
     "name": "stdout",
     "output_type": "stream",
     "text": [
      "(Greatest Hits,129)\n",
      "(Who Was That Masked Man,108)\n",
      "(Blue Grass 1950-1958,108)\n",
      "(The Music of Bill Monroe, 1936-1994,98)\n",
      "(Danzig 4,66)\n",
      "(We Love Elvis,60)\n",
      "(Memories Of Elvis,60)\n",
      "(We Love Elvis Vol.2,60)\n",
      "(The Elvis Presley Story,59)\n",
      "(Elvis The Other Sides-Gold Award Hits, Volume 2,50)\n"
     ]
    }
   ],
   "source": [
    "albumTracks.countByKey.toList.sortBy( t => -t._2 ) take 10 foreach println"
   ]
  },
  {
   "cell_type": "code",
   "execution_count": 43,
   "metadata": {
    "collapsed": false
   },
   "outputs": [
    {
     "name": "stdout",
     "output_type": "stream",
     "text": [
      "Tracks(Greatest Hits,1995,1,Unknown,Wesley Willis,Rock n Roll McDonald's)\n",
      "Tracks(Greatest Hits,1995,2,Unknown,Wesley Willis,Larry Nevers/ Walter Budzyn)\n",
      "Tracks(Greatest Hits,1995,3,Unknown,Wesley Willis,Rick Sims)\n",
      "Tracks(Greatest Hits,1995,4,Unknown,Wesley Willis,Outburst)\n",
      "Tracks(Greatest Hits,1995,5,Unknown,Wesley Willis,Chronic Schizophrenia)\n",
      "Tracks(Greatest Hits,1995,6,Unknown,Wesley Willis,Urge Overkill)\n",
      "Tracks(Greatest Hits,1995,7,Unknown,Wesley Willis,Skrew)\n",
      "Tracks(Greatest Hits,1995,8,Unknown,Wesley Willis,Tammy Smith)\n",
      "Tracks(Greatest Hits,1995,9,Unknown,Wesley Willis,Vampire Bat)\n",
      "Tracks(Greatest Hits,1995,10,Unknown,Wesley Willis,Elvis Presley)\n",
      "Tracks(Greatest Hits,1995,11,Unknown,Wesley Willis,The Chicken Cow)\n",
      "Tracks(Greatest Hits,1995,12,Unknown,Wesley Willis,Kris Kringle Was A Cat Thief)\n",
      "Tracks(Greatest Hits,1995,13,Unknown,Wesley Willis,Eazy-E)\n",
      "Tracks(Greatest Hits,1995,14,Unknown,Wesley Willis,Jesus Is the Answer)\n",
      "Tracks(Greatest Hits,1995,15,Unknown,Wesley Willis,He's Doing Time In Jail)\n",
      "Tracks(Greatest Hits,1995,16,Unknown,Wesley Willis,I'm Sorry That I Got Fat)\n",
      "Tracks(Greatest Hits,1995,17,Unknown,Wesley Willis,Aftab Noorani)\n",
      "Tracks(Greatest Hits,1995,18,Unknown,Wesley Willis,Northwest Airlines)\n",
      "Tracks(Greatest Hits,1995,19,Unknown,Wesley Willis,I Whipped Batman's Ass)\n",
      "Tracks(Greatest Hits,1995,20,Unknown,Wesley Willis,Who Killed John Columbo)\n",
      "Tracks(Greatest Hits,1995,21,Unknown,Wesley Willis,Stabbing Westward)\n",
      "Tracks(Greatest Hits,1995,22,Unknown,Wesley Willis,Richard Speck)\n",
      "Tracks(Greatest Hits,1981,1,Rock,Queen,We Will Rock You)\n",
      "Tracks(Greatest Hits,1981,2,Rock,Queen,We Are the Champions)\n",
      "Tracks(Greatest Hits,1981,3,Rock,Queen,Another One Bites the Dust)\n",
      "Tracks(Greatest Hits,1981,4,Rock,Queen,Killer Queen)\n",
      "Tracks(Greatest Hits,1981,5,Rock,Queen,Somebody to Love)\n",
      "Tracks(Greatest Hits,1981,6,Rock,Queen,Fat Bottomed Girls)\n",
      "Tracks(Greatest Hits,1981,7,Rock,Queen,Bicycle Race)\n",
      "Tracks(Greatest Hits,1981,8,Rock,Queen,You're My Best Friend)\n",
      "Tracks(Greatest Hits,1981,9,Rock,Queen,Crazy Little Thing Called Love)\n",
      "Tracks(Greatest Hits,1981,10,Rock,Queen,Now I'm Here)\n",
      "Tracks(Greatest Hits,1981,11,Rock,Queen,Play the Game)\n",
      "Tracks(Greatest Hits,1981,12,Rock,Queen,Seven Seas of Rhye)\n",
      "Tracks(Greatest Hits,1981,13,Rock,Queen,Body Language)\n",
      "Tracks(Greatest Hits,1981,14,Rock,Queen,Save Me)\n",
      "Tracks(Greatest Hits,1981,15,Rock,Queen,Don't Stop Me Now)\n",
      "Tracks(Greatest Hits,1981,16,Rock,Queen,Good Old Fashioned Lover Boy)\n",
      "Tracks(Greatest Hits,1981,17,Rock,Queen,I Want to Break Free)\n",
      "Tracks(Greatest Hits,2004,1,Rock,Guns N'' Roses,Welcome To The Jungle)\n",
      "Tracks(Greatest Hits,2004,2,Rock,Guns N'' Roses,Sweet Child O' Mine)\n",
      "Tracks(Greatest Hits,2004,3,Rock,Guns N'' Roses,Patience)\n",
      "Tracks(Greatest Hits,2004,4,Rock,Guns N'' Roses,Paradise City)\n",
      "Tracks(Greatest Hits,2004,5,Rock,Guns N'' Roses,Knockin' On Heaven's Door)\n",
      "Tracks(Greatest Hits,2004,6,Rock,Guns N'' Roses,Civil War)\n",
      "Tracks(Greatest Hits,2004,7,Rock,Guns N'' Roses,You Could Be Mine)\n",
      "Tracks(Greatest Hits,2004,8,Rock,Guns N'' Roses,Don't Cry)\n",
      "Tracks(Greatest Hits,2004,9,Rock,Guns N'' Roses,November Rain)\n",
      "Tracks(Greatest Hits,2004,10,Rock,Guns N'' Roses,Live and Let Die)\n",
      "Tracks(Greatest Hits,2004,11,Rock,Guns N'' Roses,Yesterdays)\n",
      "Tracks(Greatest Hits,2004,12,Rock,Guns N'' Roses,Ain't It Fun)\n",
      "Tracks(Greatest Hits,2004,13,Rock,Guns N'' Roses,Since I Don't Have You)\n",
      "Tracks(Greatest Hits,2004,14,Rock,Guns N'' Roses,Sympathy for The Devil)\n",
      "Tracks(Greatest Hits,1967,1,Bluegrass,Bill Monroe,Molly And Tenbrooks)\n",
      "Tracks(Greatest Hits,1967,2,Bluegrass,Bill Monroe,In the Pines)\n",
      "Tracks(Greatest Hits,1967,3,Bluegrass,Bill Monroe,New Muleskinner Blues)\n",
      "Tracks(Greatest Hits,1967,4,Bluegrass,Bill Monroe,Uncle Pen)\n",
      "Tracks(Greatest Hits,1967,5,Bluegrass,Bill Monroe,Cheyenne)\n",
      "Tracks(Greatest Hits,1967,6,Bluegrass,Bill Monroe,Footprints In The Snow)\n",
      "Tracks(Greatest Hits,1967,7,Bluegrass,Bill Monroe,Y'all Come)\n",
      "Tracks(Greatest Hits,1967,8,Bluegrass,Bill Monroe,Gotta Travel On)\n",
      "Tracks(Greatest Hits,1967,9,Bluegrass,Bill Monroe,Danny Boy)\n",
      "Tracks(Greatest Hits,1967,10,Bluegrass,Bill Monroe,Roanoke)\n",
      "Tracks(Greatest Hits,1967,11,Bluegrass,Bill Monroe,Four Walls)\n",
      "Tracks(Greatest Hits,1999,1,Rock,Alien Ant Farm,These Days)\n",
      "Tracks(Greatest Hits,1999,2,Rock,Alien Ant Farm,Pink Tea)\n",
      "Tracks(Greatest Hits,1999,3,Rock,Alien Ant Farm,Movies)\n",
      "Tracks(Greatest Hits,1999,4,Rock,Alien Ant Farm,Dole Roll)\n",
      "Tracks(Greatest Hits,1999,5,Rock,Alien Ant Farm,Denigrate)\n",
      "Tracks(Greatest Hits,1999,6,Rock,Alien Ant Farm,Solution Time)\n",
      "Tracks(Greatest Hits,1999,7,Rock,Alien Ant Farm,S. S. Recognize)\n",
      "Tracks(Greatest Hits,1999,8,Rock,Alien Ant Farm,Nova Hands)\n",
      "Tracks(Greatest Hits,1999,9,Rock,Alien Ant Farm,Universe)\n",
      "Tracks(Greatest Hits,1999,10,Rock,Alien Ant Farm,Secret Track)\n",
      "Tracks(Greatest Hits,2002,1,Pop,C.C. Catch,You're my heart, you're my soul / Cheri cheri lady / Win the race)\n",
      "Tracks(Greatest Hits,2002,2,Pop,C.C. Catch,Midnight lady)\n",
      "Tracks(Greatest Hits,2002,3,Pop,C.C. Catch,Strangers by night / Heartbreak hotel)\n",
      "Tracks(Greatest Hits,2002,4,Pop,C.C. Catch,My bed is too big / Under my skin / Magic symphony / Laila)\n",
      "Tracks(Greatest Hits,2002,5,Pop,C.C. Catch,Samuraj)\n",
      "Tracks(Greatest Hits,2002,6,Pop,C.C. Catch,Bitterblue)\n",
      "Tracks(Greatest Hits,2002,7,Pop,C.C. Catch,It's all over)\n",
      "Tracks(Greatest Hits,2002,8,Pop,C.C. Catch,Against the wind)\n",
      "Tracks(Greatest Hits,2002,9,Pop,C.C. Catch,This time it's forever)\n",
      "Tracks(Greatest Hits,2002,10,Pop,C.C. Catch,This goodbye is not forever)\n",
      "Tracks(Greatest Hits,2002,11,Pop,C.C. Catch,Boom boom)\n",
      "Tracks(Greatest Hits,2002,12,Pop,C.C. Catch,Will my heart survive)\n",
      "Tracks(Greatest Hits,1974,1,Rock,Elton John,Your Song)\n",
      "Tracks(Greatest Hits,1974,2,Rock,Elton John,Daniel)\n",
      "Tracks(Greatest Hits,1974,3,Rock,Elton John,Honky Cat)\n",
      "Tracks(Greatest Hits,1974,4,Rock,Elton John,Goodbye Yellow Brick Road)\n",
      "Tracks(Greatest Hits,1974,5,Rock,Elton John,Saturday Night's Alright for Fighting)\n",
      "Tracks(Greatest Hits,1974,6,Rock,Elton John,Rocket Man)\n",
      "Tracks(Greatest Hits,1974,7,Rock,Elton John,Bennie and the Jets)\n",
      "Tracks(Greatest Hits,1974,8,Rock,Elton John,Don't Let the Sun Go Down on Me)\n",
      "Tracks(Greatest Hits,1974,9,Rock,Elton John,Border Song)\n",
      "Tracks(Greatest Hits,1974,10,Rock,Elton John,Crocodile Rock)\n",
      "Tracks(Greatest Hits,2000,1,Pop,Mary-Kate and Ashley Olsen,Dancing Your Dreams)\n",
      "Tracks(Greatest Hits,2000,2,Pop,Mary-Kate and Ashley Olsen,Ice Cream Crazy)\n",
      "Tracks(Greatest Hits,2000,3,Pop,Mary-Kate and Ashley Olsen,Meet You At The Mall)\n",
      "Tracks(Greatest Hits,2000,4,Pop,Mary-Kate and Ashley Olsen,Makeover Machine)\n",
      "Tracks(Greatest Hits,2000,5,Pop,Mary-Kate and Ashley Olsen,Pool Party)\n",
      "Tracks(Greatest Hits,2000,6,Pop,Mary-Kate and Ashley Olsen,The Bare Necessities)\n",
      "Tracks(Greatest Hits,2000,7,Pop,Mary-Kate and Ashley Olsen,Pullin' An All Nighter)\n",
      "Tracks(Greatest Hits,2000,8,Pop,Mary-Kate and Ashley Olsen,I'd Rather Be Surfing)\n",
      "Tracks(Greatest Hits,2000,9,Pop,Mary-Kate and Ashley Olsen,Dare To Dance)\n",
      "Tracks(Greatest Hits,2000,10,Pop,Mary-Kate and Ashley Olsen,I Am The Cute One)\n",
      "Tracks(Greatest Hits,2000,11,Pop,Mary-Kate and Ashley Olsen,No One Tells The President What To Do)\n",
      "Tracks(Greatest Hits,2000,12,Pop,Mary-Kate and Ashley Olsen,Brother For Sale)\n",
      "Tracks(Greatest Hits,2000,13,Pop,Mary-Kate and Ashley Olsen,I'm Still Me)\n",
      "Tracks(Greatest Hits,2000,14,Pop,Mary-Kate and Ashley Olsen,Fashion Jr. High)\n",
      "Tracks(Greatest Hits,2000,15,Pop,Mary-Kate and Ashley Olsen,We're Gonna Start Somethin' New)\n",
      "Tracks(Greatest Hits,2000,16,Pop,Mary-Kate and Ashley Olsen,It's Not Me - It's You)\n",
      "Tracks(Greatest Hits,2000,17,Pop,Mary-Kate and Ashley Olsen,Because of Your Love)\n",
      "Tracks(Greatest Hits,1988,1,Rock,Fleetwood Mac,Rhiannon)\n",
      "Tracks(Greatest Hits,1988,2,Rock,Fleetwood Mac,Don't Stop)\n",
      "Tracks(Greatest Hits,1988,3,Rock,Fleetwood Mac,Go Your Own Way)\n",
      "Tracks(Greatest Hits,1988,4,Rock,Fleetwood Mac,Hold Me)\n",
      "Tracks(Greatest Hits,1988,5,Rock,Fleetwood Mac,Everywhere)\n",
      "Tracks(Greatest Hits,1988,6,Rock,Fleetwood Mac,Gypsy)\n",
      "Tracks(Greatest Hits,1988,7,Rock,Fleetwood Mac,You Make Loving Fun)\n",
      "Tracks(Greatest Hits,1988,8,Rock,Fleetwood Mac,As Long As You Follow)\n",
      "Tracks(Greatest Hits,1988,9,Rock,Fleetwood Mac,Dreams)\n",
      "Tracks(Greatest Hits,1988,10,Rock,Fleetwood Mac,Say You Love Me)\n",
      "Tracks(Greatest Hits,1988,11,Rock,Fleetwood Mac,Tusk)\n",
      "Tracks(Greatest Hits,1988,12,Rock,Fleetwood Mac,Little Lies)\n",
      "Tracks(Greatest Hits,1988,13,Rock,Fleetwood Mac,Sara)\n",
      "Tracks(Greatest Hits,1988,14,Rock,Fleetwood Mac,Big Love)\n",
      "Tracks(Greatest Hits,1988,15,Rock,Fleetwood Mac,Over My Head)\n",
      "Tracks(Greatest Hits,1988,16,Rock,Fleetwood Mac,No Questions Asked)\n"
     ]
    }
   ],
   "source": [
    "tracks.filter(_.album_title == \"Greatest Hits\").collect foreach println"
   ]
  },
  {
   "cell_type": "code",
   "execution_count": null,
   "metadata": {
    "collapsed": true
   },
   "outputs": [],
   "source": []
  }
 ],
 "metadata": {
  "kernelspec": {
   "display_name": "Spark 1.2.1 (Scala 2.10.4)",
   "language": "scala",
   "name": "spark"
  },
  "language_info": {
   "name": "scala"
  }
 },
 "nbformat": 4,
 "nbformat_minor": 0
}
