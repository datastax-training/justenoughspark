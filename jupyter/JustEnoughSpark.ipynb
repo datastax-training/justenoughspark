{
 "cells": [
  {
   "cell_type": "markdown",
   "metadata": {},
   "source": [
    "# Just Enough Spark - a Jupyter Notebook\n",
    "\n",
    "You can execute each statement to generate the output, or choose any option in the \"Cell\" menu. Modify the statements to try new things. \n",
    "\n",
    "\n",
    "## An RDD is an immutable collection\n",
    "* Most methods set up the execution graph for spark\n",
    "* Action methods execute the graph\n",
    "* partial results can be cached for reuse\n",
    "\n",
    "*RDDs are construction with methods on the sparkContext (sc) object*"
   ]
  },
  {
   "cell_type": "markdown",
   "metadata": {},
   "source": [
    "### RDDs can be created from files, Cassandra tables, Scala collections, and many other sources\n",
    "Let's first look at creating an an rdd from a Scala object.  We use the parallelize function"
   ]
  },
  {
   "cell_type": "code",
   "execution_count": 2,
   "metadata": {
    "collapsed": false
   },
   "outputs": [],
   "source": [
    "val myrdd = sc.parallelize(Seq(4,5,6))"
   ]
  },
  {
   "cell_type": "code",
   "execution_count": 3,
   "metadata": {
    "collapsed": false
   },
   "outputs": [],
   "source": [
    "myrdd"
   ]
  },
  {
   "cell_type": "markdown",
   "metadata": {},
   "source": [
    "Now filter out the even numbers"
   ]
  },
  {
   "cell_type": "code",
   "execution_count": 4,
   "metadata": {
    "collapsed": false
   },
   "outputs": [],
   "source": [
    "val evenNumbers = myrdd.filter( x => x % 2 == 0)\n",
    "evenNumbers"
   ]
  },
  {
   "cell_type": "markdown",
   "metadata": {},
   "source": [
    "Note that nothing really happened - we set up the execution graph.  We'll use the *action* method *collect* to execute it and dump all of the results into an array.  "
   ]
  },
  {
   "cell_type": "code",
   "execution_count": 5,
   "metadata": {
    "collapsed": false
   },
   "outputs": [],
   "source": [
    "evenNumbers.collect"
   ]
  },
  {
   "cell_type": "markdown",
   "metadata": {},
   "source": [
    "## Examine a table using CQL\n",
    "(Jupyter notebook feature)\n",
    "Use the %%Cql Magic to prefix your CQL."
   ]
  },
  {
   "cell_type": "code",
   "execution_count": 6,
   "metadata": {
    "collapsed": false
   },
   "outputs": [],
   "source": [
    "%%Cql select * from music.tracks_by_album limit 5"
   ]
  },
  {
   "cell_type": "markdown",
   "metadata": {},
   "source": [
    "## Creating RDDs from Cassandra Tables\n",
    "* Can add a where clause to push down filter\n",
    "* Creates and RDD of CassandraRow objects\n",
    "* .as will map it to a case class or tuples for ease of use\n"
   ]
  },
  {
   "cell_type": "code",
   "execution_count": 7,
   "metadata": {
    "collapsed": false
   },
   "outputs": [],
   "source": [
    "val tracks = sc.cassandraTable(\"music\",\"tracks_by_album\")\n",
    "tracks"
   ]
  },
  {
   "cell_type": "code",
   "execution_count": 8,
   "metadata": {
    "collapsed": false
   },
   "outputs": [],
   "source": [
    "tracks.take(2)"
   ]
  },
  {
   "cell_type": "markdown",
   "metadata": {},
   "source": [
    "### get the album and track in a tuple.  This is the new syntax:"
   ]
  },
  {
   "cell_type": "code",
   "execution_count": 9,
   "metadata": {
    "collapsed": false
   },
   "outputs": [],
   "source": [
    "val albumTracks = sc.cassandraTable[(String,String)](\"music\",\"tracks_by_album\").select(\"album_title\",\"track_title\")"
   ]
  },
  {
   "cell_type": "markdown",
   "metadata": {},
   "source": [
    "The first 10 rows as tuples ...."
   ]
  },
  {
   "cell_type": "code",
   "execution_count": 10,
   "metadata": {
    "collapsed": false
   },
   "outputs": [],
   "source": [
    "albumTracks.take(10) foreach println"
   ]
  },
  {
   "cell_type": "markdown",
   "metadata": {},
   "source": [
    "### Create RDDs from Cassandra Tables and return an RDD of case class objects\n",
    ".as() will map the rdd to a case class\n"
   ]
  },
  {
   "cell_type": "code",
   "execution_count": 11,
   "metadata": {
    "collapsed": true
   },
   "outputs": [],
   "source": [
    "case class Track(album_title: String,\n",
    "year:Int, number:Int,\n",
    "album_genre: String,\n",
    "performer: String,\n",
    "track_title: String)"
   ]
  },
  {
   "cell_type": "code",
   "execution_count": 12,
   "metadata": {
    "collapsed": false
   },
   "outputs": [],
   "source": [
    "val tracks = sc.cassandraTable(\"music\",\"tracks_by_album\").as(Track)\n",
    "tracks"
   ]
  },
  {
   "cell_type": "code",
   "execution_count": 13,
   "metadata": {
    "collapsed": false
   },
   "outputs": [],
   "source": [
    "tracks take 5 foreach println"
   ]
  },
  {
   "cell_type": "markdown",
   "metadata": {},
   "source": [
    "## Some other useful actions ...\n",
    "* first – same as take(1)(0)\n",
    "* collect – bring everything back to the caller as a scala array\n",
    "* saveToCassandra\n",
    "* count\n"
   ]
  },
  {
   "cell_type": "code",
   "execution_count": 14,
   "metadata": {
    "collapsed": false
   },
   "outputs": [],
   "source": [
    "tracks.first"
   ]
  },
  {
   "cell_type": "code",
   "execution_count": 15,
   "metadata": {
    "collapsed": false
   },
   "outputs": [],
   "source": [
    "tracks.count"
   ]
  },
  {
   "cell_type": "markdown",
   "metadata": {},
   "source": [
    "## Some Typical Transformations\n",
    "filter, map, distinct"
   ]
  },
  {
   "cell_type": "markdown",
   "metadata": {},
   "source": [
    "Show tracks from 1989"
   ]
  },
  {
   "cell_type": "code",
   "execution_count": 16,
   "metadata": {
    "collapsed": false
   },
   "outputs": [],
   "source": [
    "tracks.filter(x => x.year == 1989).take(10).foreach(println)\n"
   ]
  },
  {
   "cell_type": "markdown",
   "metadata": {},
   "source": [
    "**This can also be accomplished with a .where function on the cassandraTable to push the work into Cassandra**"
   ]
  },
  {
   "cell_type": "markdown",
   "metadata": {},
   "source": [
    "map the cassandra table to 2-tuples "
   ]
  },
  {
   "cell_type": "code",
   "execution_count": 17,
   "metadata": {
    "collapsed": false
   },
   "outputs": [],
   "source": [
    "tracks.map(x =>(x.album_title, x.track_title)).\n",
    "   take(5).foreach(println)"
   ]
  },
  {
   "cell_type": "markdown",
   "metadata": {},
   "source": [
    "Combine operations into a single graphe or even a single statement"
   ]
  },
  {
   "cell_type": "code",
   "execution_count": 18,
   "metadata": {
    "collapsed": false
   },
   "outputs": [],
   "source": [
    "tracks.filter(x => x.year == 1990).map(x => (x.album_title, x.track_title)).take(5).foreach(println)\n"
   ]
  },
  {
   "cell_type": "markdown",
   "metadata": {},
   "source": [
    "## Pair RDDs – Special operations on RDD of  2-Tuples\n",
    "* Think of each tuple as (Key,Value)\n",
    "* countByKey\n",
    "* groupByKey\n",
    "* reduceByKey\n"
   ]
  },
  {
   "cell_type": "code",
   "execution_count": 19,
   "metadata": {
    "collapsed": true
   },
   "outputs": [],
   "source": [
    "val albumTracks = tracks.map(t => (t.album_title, t.track_title))"
   ]
  },
  {
   "cell_type": "markdown",
   "metadata": {},
   "source": [
    "How many tracks in each album?"
   ]
  },
  {
   "cell_type": "code",
   "execution_count": 20,
   "metadata": {
    "collapsed": false
   },
   "outputs": [],
   "source": [
    "val trackTitles = albumTracks.countByKey"
   ]
  },
  {
   "cell_type": "markdown",
   "metadata": {},
   "source": [
    "Why not sort the results descending? toList turns the map into a list of tuples and sort by the negative of the count"
   ]
  },
  {
   "cell_type": "code",
   "execution_count": 21,
   "metadata": {
    "collapsed": false
   },
   "outputs": [],
   "source": [
    "albumTracks.countByKey.toList.sortBy( t => -t._2 ) take 10 foreach println"
   ]
  },
  {
   "cell_type": "code",
   "execution_count": 22,
   "metadata": {
    "collapsed": false
   },
   "outputs": [
    {
     "name": "stdout",
     "output_type": "stream",
     "text": [
      "Track(Greatest Hits,1995,1,Unknown,Wesley Willis,Rock n Roll McDonald's)\n",
      "Track(Greatest Hits,1995,2,Unknown,Wesley Willis,Larry Nevers/ Walter Budzyn)\n",
      "Track(Greatest Hits,1995,3,Unknown,Wesley Willis,Rick Sims)\n",
      "Track(Greatest Hits,1995,4,Unknown,Wesley Willis,Outburst)\n",
      "Track(Greatest Hits,1995,5,Unknown,Wesley Willis,Chronic Schizophrenia)\n",
      "Track(Greatest Hits,1995,6,Unknown,Wesley Willis,Urge Overkill)\n",
      "Track(Greatest Hits,1995,7,Unknown,Wesley Willis,Skrew)\n",
      "Track(Greatest Hits,1995,8,Unknown,Wesley Willis,Tammy Smith)\n",
      "Track(Greatest Hits,1995,9,Unknown,Wesley Willis,Vampire Bat)\n",
      "Track(Greatest Hits,1995,10,Unknown,Wesley Willis,Elvis Presley)\n",
      "Track(Greatest Hits,1995,11,Unknown,Wesley Willis,The Chicken Cow)\n",
      "Track(Greatest Hits,1995,12,Unknown,Wesley Willis,Kris Kringle Was A Cat Thief)\n",
      "Track(Greatest Hits,1995,13,Unknown,Wesley Willis,Eazy-E)\n",
      "Track(Greatest Hits,1995,14,Unknown,Wesley Willis,Jesus Is the Answer)\n",
      "Track(Greatest Hits,1995,15,Unknown,Wesley Willis,He's Doing Time In Jail)\n",
      "Track(Greatest Hits,1995,16,Unknown,Wesley Willis,I'm Sorry That I Got Fat)\n",
      "Track(Greatest Hits,1995,17,Unknown,Wesley Willis,Aftab Noorani)\n",
      "Track(Greatest Hits,1995,18,Unknown,Wesley Willis,Northwest Airlines)\n",
      "Track(Greatest Hits,1995,19,Unknown,Wesley Willis,I Whipped Batman's Ass)\n",
      "Track(Greatest Hits,1995,20,Unknown,Wesley Willis,Who Killed John Columbo)\n",
      "Track(Greatest Hits,1995,21,Unknown,Wesley Willis,Stabbing Westward)\n",
      "Track(Greatest Hits,1995,22,Unknown,Wesley Willis,Richard Speck)\n",
      "Track(Greatest Hits,1981,1,Rock,Queen,We Will Rock You)\n",
      "Track(Greatest Hits,1981,2,Rock,Queen,We Are the Champions)\n",
      "Track(Greatest Hits,1981,3,Rock,Queen,Another One Bites the Dust)\n",
      "Track(Greatest Hits,1981,4,Rock,Queen,Killer Queen)\n",
      "Track(Greatest Hits,1981,5,Rock,Queen,Somebody to Love)\n",
      "Track(Greatest Hits,1981,6,Rock,Queen,Fat Bottomed Girls)\n",
      "Track(Greatest Hits,1981,7,Rock,Queen,Bicycle Race)\n",
      "Track(Greatest Hits,1981,8,Rock,Queen,You're My Best Friend)\n",
      "Track(Greatest Hits,1981,9,Rock,Queen,Crazy Little Thing Called Love)\n",
      "Track(Greatest Hits,1981,10,Rock,Queen,Now I'm Here)\n",
      "Track(Greatest Hits,1981,11,Rock,Queen,Play the Game)\n",
      "Track(Greatest Hits,1981,12,Rock,Queen,Seven Seas of Rhye)\n",
      "Track(Greatest Hits,1981,13,Rock,Queen,Body Language)\n",
      "Track(Greatest Hits,1981,14,Rock,Queen,Save Me)\n",
      "Track(Greatest Hits,1981,15,Rock,Queen,Don't Stop Me Now)\n",
      "Track(Greatest Hits,1981,16,Rock,Queen,Good Old Fashioned Lover Boy)\n",
      "Track(Greatest Hits,1981,17,Rock,Queen,I Want to Break Free)\n",
      "Track(Greatest Hits,2004,1,Rock,Guns N'' Roses,Welcome To The Jungle)\n",
      "Track(Greatest Hits,2004,2,Rock,Guns N'' Roses,Sweet Child O' Mine)\n",
      "Track(Greatest Hits,2004,3,Rock,Guns N'' Roses,Patience)\n",
      "Track(Greatest Hits,2004,4,Rock,Guns N'' Roses,Paradise City)\n",
      "Track(Greatest Hits,2004,5,Rock,Guns N'' Roses,Knockin' On Heaven's Door)\n",
      "Track(Greatest Hits,2004,6,Rock,Guns N'' Roses,Civil War)\n",
      "Track(Greatest Hits,2004,7,Rock,Guns N'' Roses,You Could Be Mine)\n",
      "Track(Greatest Hits,2004,8,Rock,Guns N'' Roses,Don't Cry)\n",
      "Track(Greatest Hits,2004,9,Rock,Guns N'' Roses,November Rain)\n",
      "Track(Greatest Hits,2004,10,Rock,Guns N'' Roses,Live and Let Die)\n",
      "Track(Greatest Hits,2004,11,Rock,Guns N'' Roses,Yesterdays)\n",
      "Track(Greatest Hits,2004,12,Rock,Guns N'' Roses,Ain't It Fun)\n",
      "Track(Greatest Hits,2004,13,Rock,Guns N'' Roses,Since I Don't Have You)\n",
      "Track(Greatest Hits,2004,14,Rock,Guns N'' Roses,Sympathy for The Devil)\n",
      "Track(Greatest Hits,1967,1,Bluegrass,Bill Monroe,Molly And Tenbrooks)\n",
      "Track(Greatest Hits,1967,2,Bluegrass,Bill Monroe,In the Pines)\n",
      "Track(Greatest Hits,1967,3,Bluegrass,Bill Monroe,New Muleskinner Blues)\n",
      "Track(Greatest Hits,1967,4,Bluegrass,Bill Monroe,Uncle Pen)\n",
      "Track(Greatest Hits,1967,5,Bluegrass,Bill Monroe,Cheyenne)\n",
      "Track(Greatest Hits,1967,6,Bluegrass,Bill Monroe,Footprints In The Snow)\n",
      "Track(Greatest Hits,1967,7,Bluegrass,Bill Monroe,Y'all Come)\n",
      "Track(Greatest Hits,1967,8,Bluegrass,Bill Monroe,Gotta Travel On)\n",
      "Track(Greatest Hits,1967,9,Bluegrass,Bill Monroe,Danny Boy)\n",
      "Track(Greatest Hits,1967,10,Bluegrass,Bill Monroe,Roanoke)\n",
      "Track(Greatest Hits,1967,11,Bluegrass,Bill Monroe,Four Walls)\n",
      "Track(Greatest Hits,1999,1,Rock,Alien Ant Farm,These Days)\n",
      "Track(Greatest Hits,1999,2,Rock,Alien Ant Farm,Pink Tea)\n",
      "Track(Greatest Hits,1999,3,Rock,Alien Ant Farm,Movies)\n",
      "Track(Greatest Hits,1999,4,Rock,Alien Ant Farm,Dole Roll)\n",
      "Track(Greatest Hits,1999,5,Rock,Alien Ant Farm,Denigrate)\n",
      "Track(Greatest Hits,1999,6,Rock,Alien Ant Farm,Solution Time)\n",
      "Track(Greatest Hits,1999,7,Rock,Alien Ant Farm,S. S. Recognize)\n",
      "Track(Greatest Hits,1999,8,Rock,Alien Ant Farm,Nova Hands)\n",
      "Track(Greatest Hits,1999,9,Rock,Alien Ant Farm,Universe)\n",
      "Track(Greatest Hits,1999,10,Rock,Alien Ant Farm,Secret Track)\n",
      "Track(Greatest Hits,2002,1,Pop,C.C. Catch,You're my heart, you're my soul / Cheri cheri lady / Win the race)\n",
      "Track(Greatest Hits,2002,2,Pop,C.C. Catch,Midnight lady)\n",
      "Track(Greatest Hits,2002,3,Pop,C.C. Catch,Strangers by night / Heartbreak hotel)\n",
      "Track(Greatest Hits,2002,4,Pop,C.C. Catch,My bed is too big / Under my skin / Magic symphony / Laila)\n",
      "Track(Greatest Hits,2002,5,Pop,C.C. Catch,Samuraj)\n",
      "Track(Greatest Hits,2002,6,Pop,C.C. Catch,Bitterblue)\n",
      "Track(Greatest Hits,2002,7,Pop,C.C. Catch,It's all over)\n",
      "Track(Greatest Hits,2002,8,Pop,C.C. Catch,Against the wind)\n",
      "Track(Greatest Hits,2002,9,Pop,C.C. Catch,This time it's forever)\n",
      "Track(Greatest Hits,2002,10,Pop,C.C. Catch,This goodbye is not forever)\n",
      "Track(Greatest Hits,2002,11,Pop,C.C. Catch,Boom boom)\n",
      "Track(Greatest Hits,2002,12,Pop,C.C. Catch,Will my heart survive)\n",
      "Track(Greatest Hits,1974,1,Rock,Elton John,Your Song)\n",
      "Track(Greatest Hits,1974,2,Rock,Elton John,Daniel)\n",
      "Track(Greatest Hits,1974,3,Rock,Elton John,Honky Cat)\n",
      "Track(Greatest Hits,1974,4,Rock,Elton John,Goodbye Yellow Brick Road)\n",
      "Track(Greatest Hits,1974,5,Rock,Elton John,Saturday Night's Alright for Fighting)\n",
      "Track(Greatest Hits,1974,6,Rock,Elton John,Rocket Man)\n",
      "Track(Greatest Hits,1974,7,Rock,Elton John,Bennie and the Jets)\n",
      "Track(Greatest Hits,1974,8,Rock,Elton John,Don't Let the Sun Go Down on Me)\n",
      "Track(Greatest Hits,1974,9,Rock,Elton John,Border Song)\n",
      "Track(Greatest Hits,1974,10,Rock,Elton John,Crocodile Rock)\n",
      "Track(Greatest Hits,2000,1,Pop,Mary-Kate and Ashley Olsen,Dancing Your Dreams)\n",
      "Track(Greatest Hits,2000,2,Pop,Mary-Kate and Ashley Olsen,Ice Cream Crazy)\n",
      "Track(Greatest Hits,2000,3,Pop,Mary-Kate and Ashley Olsen,Meet You At The Mall)\n",
      "Track(Greatest Hits,2000,4,Pop,Mary-Kate and Ashley Olsen,Makeover Machine)\n",
      "Track(Greatest Hits,2000,5,Pop,Mary-Kate and Ashley Olsen,Pool Party)\n",
      "Track(Greatest Hits,2000,6,Pop,Mary-Kate and Ashley Olsen,The Bare Necessities)\n",
      "Track(Greatest Hits,2000,7,Pop,Mary-Kate and Ashley Olsen,Pullin' An All Nighter)\n",
      "Track(Greatest Hits,2000,8,Pop,Mary-Kate and Ashley Olsen,I'd Rather Be Surfing)\n",
      "Track(Greatest Hits,2000,9,Pop,Mary-Kate and Ashley Olsen,Dare To Dance)\n",
      "Track(Greatest Hits,2000,10,Pop,Mary-Kate and Ashley Olsen,I Am The Cute One)\n",
      "Track(Greatest Hits,2000,11,Pop,Mary-Kate and Ashley Olsen,No One Tells The President What To Do)\n",
      "Track(Greatest Hits,2000,12,Pop,Mary-Kate and Ashley Olsen,Brother For Sale)\n",
      "Track(Greatest Hits,2000,13,Pop,Mary-Kate and Ashley Olsen,I'm Still Me)\n",
      "Track(Greatest Hits,2000,14,Pop,Mary-Kate and Ashley Olsen,Fashion Jr. High)\n",
      "Track(Greatest Hits,2000,15,Pop,Mary-Kate and Ashley Olsen,We're Gonna Start Somethin' New)\n",
      "Track(Greatest Hits,2000,16,Pop,Mary-Kate and Ashley Olsen,It's Not Me - It's You)\n",
      "Track(Greatest Hits,2000,17,Pop,Mary-Kate and Ashley Olsen,Because of Your Love)\n",
      "Track(Greatest Hits,1988,1,Rock,Fleetwood Mac,Rhiannon)\n",
      "Track(Greatest Hits,1988,2,Rock,Fleetwood Mac,Don't Stop)\n",
      "Track(Greatest Hits,1988,3,Rock,Fleetwood Mac,Go Your Own Way)\n",
      "Track(Greatest Hits,1988,4,Rock,Fleetwood Mac,Hold Me)\n",
      "Track(Greatest Hits,1988,5,Rock,Fleetwood Mac,Everywhere)\n",
      "Track(Greatest Hits,1988,6,Rock,Fleetwood Mac,Gypsy)\n",
      "Track(Greatest Hits,1988,7,Rock,Fleetwood Mac,You Make Loving Fun)\n",
      "Track(Greatest Hits,1988,8,Rock,Fleetwood Mac,As Long As You Follow)\n",
      "Track(Greatest Hits,1988,9,Rock,Fleetwood Mac,Dreams)\n",
      "Track(Greatest Hits,1988,10,Rock,Fleetwood Mac,Say You Love Me)\n",
      "Track(Greatest Hits,1988,11,Rock,Fleetwood Mac,Tusk)\n",
      "Track(Greatest Hits,1988,12,Rock,Fleetwood Mac,Little Lies)\n",
      "Track(Greatest Hits,1988,13,Rock,Fleetwood Mac,Sara)\n",
      "Track(Greatest Hits,1988,14,Rock,Fleetwood Mac,Big Love)\n",
      "Track(Greatest Hits,1988,15,Rock,Fleetwood Mac,Over My Head)\n",
      "Track(Greatest Hits,1988,16,Rock,Fleetwood Mac,No Questions Asked)\n"
     ]
    }
   ],
   "source": [
    "tracks.filter(_.album_title == \"Greatest Hits\").collect foreach println"
   ]
  },
  {
   "cell_type": "code",
   "execution_count": null,
   "metadata": {
    "collapsed": true
   },
   "outputs": [],
   "source": []
  }
 ],
 "metadata": {
  "kernelspec": {
   "display_name": "Spark-DSE Cluster (Scala 2.10.4)",
   "language": "scala",
   "name": "spark-dse-cluster"
  },
  "language_info": {
   "name": "scala"
  }
 },
 "nbformat": 4,
 "nbformat_minor": 0
}
