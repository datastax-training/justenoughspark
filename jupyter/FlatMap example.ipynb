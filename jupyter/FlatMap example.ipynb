{
 "cells": [
  {
   "cell_type": "code",
   "execution_count": 12,
   "metadata": {
    "collapsed": false
   },
   "outputs": [
    {
     "data": {
      "text/html": [
       "<b>music.albums</b><table><tr><td>album_title</td><td>VarCharType</td><td>partition key</td></tr><tr><td>album_year</td><td>IntType</td><td>partition key</td></tr><tr><td>album_genre</td><td>VarCharType</td><td></td></tr><tr><td>performer</td><td>VarCharType</td><td></td></tr><tr><td>tracks</td><td>ListType(VarCharType)</td><td></td></tr></table>"
      ]
     },
     "execution_count": 12,
     "metadata": {},
     "output_type": "execute_result"
    }
   ],
   "source": [
    "%%showschema music.albums"
   ]
  },
  {
   "cell_type": "code",
   "execution_count": 1,
   "metadata": {
    "collapsed": false
   },
   "outputs": [
    {
     "name": "stdout",
     "output_type": "stream",
     "text": [
      "WARN  2015-11-23 13:18:12 com.datastax.driver.core.NettyUtil: Found Netty's native epoll transport, but not running on linux-based operating system. Using NIO instead.\n"
     ]
    },
    {
     "data": {
      "text/html": [
       "<table><tr><th>album_title</th><th>album_year</th><th>album_genre</th><th>performer</th><th>tracks</th></tr><tr><td>Duos For Violin and Cello</td><td>2000</td><td>Classical</td><td>Nigel Kennedy</td><td>[Sonata for Violin and Cello - Allegro, Sonata for Violin and Cello - Tres vif, Sonata for Violin and Cello - Lent, Sonata for Violin and Cello - Vif, avec entrain, Passacaglia, Duo for Violin and Cello Op. 7 - Allegro serioso, non troppo, Duo for Violin and Cello Op. 7 - Adagio-Andante-Tempo I, Duo for Violin and Cello Op. 7 - Maestoso e largamente, ma non troppo lento-Presto, Two-Part Intervention No. 6 in E]</td></tr><tr><td>Golden Boy Elvis</td><td>1981</td><td>Rock</td><td>Elvis Presley</td><td>[She's Not You, Return To Sender, Joshua Fit The Battle, Don't, Tutti Frutti, It's Now Or Never, Surrender, Do The Clam, Kiss Me Quick, Such A Night, Blueberry Hill, Don't Be Cruel, Heartbreak Hotel, Fun In Acapulco, Hound Dog, Wooden Heart]</td></tr><tr><td>Home</td><td>1995</td><td>Rock</td><td>Blessid Union of Souls</td><td>[I Believe, Let Me Be The One, All Along, Oh Virginia, Nora, Would You Be There, Home, End Of The World, Heaven, Forever For Tonight, Lucky To Be Here]</td></tr><tr><td>Little Sweet Delirium</td><td>1996</td><td>Unknown</td><td>Creeker</td><td>[Chase, Revolution, 829, Reaction, Hands Like Wings, God Shaped Hole, Fall, Point of You]</td></tr><tr><td>Merry Christmas From Elvis Presley, A</td><td>1982</td><td>Rock</td><td>Elvis Presley</td><td>[O Come All Ye Faithful, The First Noel, On A Snowy Christmas Night, Winter Wonderland, The Wonderful World Of Christmas, It Won't Seem Like Christmas, I'll Be Home On Christmas Day, If I Get Home On Christmas Day, Holly Leaves And Christmas Trees, Merry Christmas Baby, Silver Bells]</td></tr></table>"
      ]
     },
     "execution_count": 1,
     "metadata": {},
     "output_type": "execute_result"
    }
   ],
   "source": [
    "%%cql select * from music.albums limit 5"
   ]
  },
  {
   "cell_type": "markdown",
   "metadata": {},
   "source": [
    "### This table has a collection in it.  So the RDD has some regular columns and a collection.\n",
    "The code\n",
    "\n",
    "```\n",
    "tracks.map( ... )\n",
    "```\n",
    "\n",
    "Emits a list of items for each row.  ```flatMap``` flattens the list so flatMap emits just tracks instead of a list of tracks"
   ]
  },
  {
   "cell_type": "code",
   "execution_count": 3,
   "metadata": {
    "collapsed": true
   },
   "outputs": [],
   "source": [
    "val music_albums = sc.cassandraTable[(String,Int,Option[String],Option[String],List[String])](\"music\",\"albums\")"
   ]
  },
  {
   "cell_type": "code",
   "execution_count": 5,
   "metadata": {
    "collapsed": false
   },
   "outputs": [],
   "source": [
    "val just_tracks = music_albums.flatMap{ case (at,yr,gen,per,tracks) => tracks.map((gen.getOrElse(\"Unknown\"), _))}"
   ]
  },
  {
   "cell_type": "code",
   "execution_count": 7,
   "metadata": {
    "collapsed": false
   },
   "outputs": [
    {
     "name": "stdout",
     "output_type": "stream",
     "text": [
      "(Classical,Sonata for Violin and Cello - Allegro)\n",
      "(Classical,Sonata for Violin and Cello - Tres vif)\n",
      "(Classical,Sonata for Violin and Cello - Lent)\n",
      "(Classical,Sonata for Violin and Cello - Vif, avec entrain)\n",
      "(Classical,Passacaglia)\n",
      "(Classical,Duo for Violin and Cello Op. 7 - Allegro serioso, non troppo)\n",
      "(Classical,Duo for Violin and Cello Op. 7 - Adagio-Andante-Tempo I)\n",
      "(Classical,Duo for Violin and Cello Op. 7 - Maestoso e largamente, ma non troppo lento-Presto)\n",
      "(Classical,Two-Part Intervention No. 6 in E)\n",
      "(Rock,She's Not You)\n"
     ]
    }
   ],
   "source": [
    "just_tracks take 10 foreach println"
   ]
  },
  {
   "cell_type": "code",
   "execution_count": null,
   "metadata": {
    "collapsed": true
   },
   "outputs": [],
   "source": []
  }
 ],
 "metadata": {
  "kernelspec": {
   "display_name": "Spark-DSE Cluster (Scala 2.10.4)",
   "language": "scala",
   "name": "spark-dse-cluster"
  },
  "language_info": {
   "name": "scala"
  }
 },
 "nbformat": 4,
 "nbformat_minor": 0
}
