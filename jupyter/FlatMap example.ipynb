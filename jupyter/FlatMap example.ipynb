{
 "cells": [
  {
   "cell_type": "code",
   "execution_count": 12,
   "metadata": {
    "collapsed": false
   },
   "outputs": [
    {
     "data": {
      "text/html": [
       "<b>music.albums</b><table><tr><td>album_title</td><td>VarCharType</td><td>partition key</td></tr><tr><td>album_year</td><td>IntType</td><td>partition key</td></tr><tr><td>album_genre</td><td>VarCharType</td><td></td></tr><tr><td>performer</td><td>VarCharType</td><td></td></tr><tr><td>tracks</td><td>ListType(VarCharType)</td><td></td></tr></table>"
      ]
     },
     "execution_count": 12,
     "metadata": {},
     "output_type": "execute_result"
    }
   ],
   "source": [
    "%%showschema music.albums"
   ]
  },
  {
   "cell_type": "code",
   "execution_count": 7,
   "metadata": {
    "collapsed": false
   },
   "outputs": [],
   "source": [
    "%%cql select * from music.albums"
   ]
  },
  {
   "cell_type": "code",
   "execution_count": 10,
   "metadata": {
    "collapsed": true
   },
   "outputs": [],
   "source": [
    "val ma = sc.cassandraTable[(String,Int,Option[String],Option[String],List[String])](\"music\",\"albums\")"
   ]
  },
  {
   "cell_type": "code",
   "execution_count": 18,
   "metadata": {
    "collapsed": false
   },
   "outputs": [],
   "source": [
    "val x = ma.flatMap{ case (at,yr,gen,per,tracks) => tracks.map((gen.getOrElse(\"Unknown\"), _))}"
   ]
  },
  {
   "cell_type": "code",
   "execution_count": 21,
   "metadata": {
    "collapsed": false
   },
   "outputs": [
    {
     "name": "stdout",
     "output_type": "stream",
     "text": [
      "(Unknown,Sonata for Violin and Cello - Allegro)\n",
      "(Unknown,Sonata for Violin and Cello - Tres vif)\n",
      "(Unknown,Sonata for Violin and Cello - Lent)\n",
      "(Unknown,Sonata for Violin and Cello - Vif, avec entrain)\n",
      "(Unknown,Passacaglia)\n",
      "(Unknown,Duo for Violin and Cello Op. 7 - Allegro serioso, non troppo)\n",
      "(Unknown,Duo for Violin and Cello Op. 7 - Adagio-Andante-Tempo I)\n",
      "(Unknown,Duo for Violin and Cello Op. 7 - Maestoso e largamente, ma non troppo lento-Presto)\n",
      "(Unknown,Two-Part Intervention No. 6 in E)\n",
      "(Unknown,She's Not You)\n",
      "(Unknown,Return To Sender)\n",
      "(Unknown,Joshua Fit The Battle)\n",
      "(Unknown,Don't)\n",
      "(Unknown,Tutti Frutti)\n",
      "(Unknown,It's Now Or Never)\n",
      "(Unknown,Surrender)\n",
      "(Unknown,Do The Clam)\n",
      "(Unknown,Kiss Me Quick)\n",
      "(Unknown,Such A Night)\n",
      "(Unknown,Blueberry Hill)\n",
      "(Unknown,Don't Be Cruel)\n",
      "(Unknown,Heartbreak Hotel)\n",
      "(Unknown,Fun In Acapulco)\n",
      "(Unknown,Hound Dog)\n",
      "(Unknown,Wooden Heart)\n",
      "(Unknown,I Believe)\n",
      "(Unknown,Let Me Be The One)\n",
      "(Unknown,All Along)\n",
      "(Unknown,Oh Virginia)\n",
      "(Unknown,Nora)\n",
      "(Unknown,Would You Be There)\n",
      "(Unknown,Home)\n",
      "(Unknown,End Of The World)\n",
      "(Unknown,Heaven)\n",
      "(Unknown,Forever For Tonight)\n",
      "(Unknown,Lucky To Be Here)\n",
      "(Unknown,Chase)\n",
      "(Unknown,Revolution)\n",
      "(Unknown,829)\n",
      "(Unknown,Reaction)\n",
      "(Unknown,Hands Like Wings)\n",
      "(Unknown,God Shaped Hole)\n",
      "(Unknown,Fall)\n",
      "(Unknown,Point of You)\n",
      "(Unknown,O Come All Ye Faithful)\n",
      "(Unknown,The First Noel)\n",
      "(Unknown,On A Snowy Christmas Night)\n",
      "(Unknown,Winter Wonderland)\n",
      "(Unknown,The Wonderful World Of Christmas)\n",
      "(Unknown,It Won't Seem Like Christmas)\n",
      "(Unknown,I'll Be Home On Christmas Day)\n",
      "(Unknown,If I Get Home On Christmas Day)\n",
      "(Unknown,Holly Leaves And Christmas Trees)\n",
      "(Unknown,Merry Christmas Baby)\n",
      "(Unknown,Silver Bells)\n",
      "(Unknown,Also Sprach Zarathustra)\n",
      "(Unknown,See See Rider)\n",
      "(Unknown,I Got A Woman/Amen)\n",
      "(Unknown,Love Me)\n",
      "(Unknown,Trying To Get To You)\n",
      "(Unknown,Steamroller Blues)\n",
      "(Unknown,Long Tall Sally/Whole Lotta Shakin' Goin' On/Mama Don't Dance/Flip, Flop And Fly/Jailhouse Rock/Hound Dog)\n",
      "(Unknown,Why Me Lord)\n",
      "(Unknown,How Great Thou Art)\n",
      "(Unknown,Blueberry Hill/I Can't Stop Loving You)\n",
      "(Unknown,Help Me)\n",
      "(Unknown,An American Trilogy)\n",
      "(Unknown,Let Me Be There)\n",
      "(Unknown,My Baby Left Me)\n",
      "(Unknown,Lawdy, Miss Clawdy)\n",
      "(Unknown,Can't Help Falling In Love)\n",
      "(Unknown,Closing Vamp)\n",
      "(Unknown,Thanks for the Memory)\n",
      "(Unknown,It Shouldn't Happen to a Dream)\n",
      "(Unknown,Just in Time)\n",
      "(Unknown,Under a Blanket of Blue)\n",
      "(Unknown,That's Your Red Wagon)\n",
      "(Unknown,Peel Me a Grape)\n",
      "(Unknown,Occasional Man)\n",
      "(Unknown,Party's Over)\n",
      "(Unknown,I Believe in You)\n",
      "(Unknown,Mr Sandman)\n",
      "(Unknown,Spring Will be a Little Late This Year)\n",
      "(Unknown,I'm Not Supposed to be Blue Blues)\n",
      "(Unknown,Pillars)\n",
      "(Unknown,Roses in Water)\n",
      "(Unknown,Every Shining Time You Arrive)\n",
      "(Unknown,Two Promises)\n",
      "(Unknown,100 Million)\n",
      "(Unknown,How It Feels to Be Something On)\n",
      "(Unknown,The Prophet)\n",
      "(Unknown,Guitar and Video Games)\n",
      "(Unknown,The Shark's Own Private Fuck)\n",
      "(Unknown,Days Were Golden)\n",
      "(Unknown,Keep Pushin)\n",
      "(Unknown,Keep On Loving You)\n",
      "(Unknown,The Key)\n",
      "(Unknown,Keep The Fire Burning)\n",
      "(Unknown,Only The Strong Survive)\n",
      "(Unknown,I Need You Tonight)\n"
     ]
    }
   ],
   "source": [
    "x take 100 foreach println"
   ]
  },
  {
   "cell_type": "code",
   "execution_count": 22,
   "metadata": {
    "collapsed": false
   },
   "outputs": [
    {
     "data": {
      "text/plain": [
       "scala.collection.Map[String,Long] = Map(Unknown -> 36737)"
      ]
     },
     "execution_count": 22,
     "metadata": {},
     "output_type": "execute_result"
    }
   ],
   "source": [
    "x.countByKey"
   ]
  },
  {
   "cell_type": "code",
   "execution_count": null,
   "metadata": {
    "collapsed": true
   },
   "outputs": [],
   "source": []
  }
 ],
 "metadata": {
  "kernelspec": {
   "display_name": "Spark-DSE Cluster (Scala 2.10.4)",
   "language": "scala",
   "name": "spark-dse-cluster"
  },
  "language_info": {
   "name": "scala"
  }
 },
 "nbformat": 4,
 "nbformat_minor": 0
}
