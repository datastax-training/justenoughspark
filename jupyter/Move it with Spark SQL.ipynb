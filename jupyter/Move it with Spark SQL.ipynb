{
 "cells": [
  {
   "cell_type": "markdown",
   "metadata": {},
   "source": [
    "### Let's create a table called tracks_by_year as our new table"
   ]
  },
  {
   "cell_type": "code",
   "execution_count": 6,
   "metadata": {
    "collapsed": false
   },
   "outputs": [],
   "source": [
    "%%cql create table music.tracks_by_year (dummy text, year int, track_count int, primary key (dummy, track_count) ) with clustering order by (track_count desc)"
   ]
  },
  {
   "cell_type": "markdown",
   "metadata": {},
   "source": [
    "### Register the table so it uses the correct input format\n",
    "- This will work out of the box in a future release"
   ]
  },
  {
   "cell_type": "code",
   "execution_count": 7,
   "metadata": {
    "collapsed": false
   },
   "outputs": [
    {
     "data": {
      "text/plain": [
       "org.apache.spark.sql.DataFrame = []"
      ]
     },
     "execution_count": 7,
     "metadata": {},
     "output_type": "execute_result"
    }
   ],
   "source": [
    "sqlContext.sql(\"\"\"CREATE TEMPORARY TABLE tmp_tracks_by_album\n",
    "        USING org.apache.spark.sql.cassandra\n",
    "        OPTIONS (\n",
    "          keyspace \"music\",\n",
    "          table \"tracks_by_album\",\n",
    "          pushdown \"true\"\n",
    "        )\"\"\")"
   ]
  },
  {
   "cell_type": "markdown",
   "metadata": {},
   "source": [
    "### Create a dataframe based on an SQL statement"
   ]
  },
  {
   "cell_type": "code",
   "execution_count": 9,
   "metadata": {
    "collapsed": false
   },
   "outputs": [],
   "source": [
    "val track_count_by_year = sqlContext.sql(\"select 'dummy' as dummy, album_year as year, count(*) as track_count from tmp_tracks_by_album group by album_year\")"
   ]
  },
  {
   "cell_type": "code",
   "execution_count": 14,
   "metadata": {
    "collapsed": false
   },
   "outputs": [
    {
     "name": "stdout",
     "output_type": "stream",
     "text": [
      "+-----+----+-----------+\n",
      "|dummy|year|track_count|\n",
      "+-----+----+-----------+\n",
      "|dummy|1952|         10|\n",
      "|dummy|1956|         53|\n",
      "|dummy|1957|         21|\n",
      "|dummy|1958|         31|\n",
      "|dummy|1959|         28|\n",
      "+-----+----+-----------+\n",
      "\n"
     ]
    }
   ],
   "source": [
    "track_count_by_year show 5"
   ]
  },
  {
   "cell_type": "markdown",
   "metadata": {},
   "source": [
    "### Register that result as a tmp table"
   ]
  },
  {
   "cell_type": "code",
   "execution_count": 17,
   "metadata": {
    "collapsed": false
   },
   "outputs": [],
   "source": [
    "track_count_by_year registerTempTable \"tmp_track_count_by_year\""
   ]
  },
  {
   "cell_type": "code",
   "execution_count": 19,
   "metadata": {
    "collapsed": false
   },
   "outputs": [],
   "source": [
    "sqlContext.sql(\"insert into table music.tracks_by_year select dummy, track_count, year from tmp_track_count_by_year\")"
   ]
  },
  {
   "cell_type": "code",
   "execution_count": 22,
   "metadata": {
    "collapsed": false
   },
   "outputs": [
    {
     "data": {
      "text/html": [
       "<table><tr><th>dummy</th><th>track_count</th><th>year</th></tr></table>"
      ]
     },
     "execution_count": 22,
     "metadata": {},
     "output_type": "execute_result"
    }
   ],
   "source": [
    "%%cql select * from music.tracks_by_year limit 10"
   ]
  },
  {
   "cell_type": "markdown",
   "metadata": {},
   "source": [
    "### Or ... the one-liner technique. Lets save the data with a simple insert - select statement"
   ]
  },
  {
   "cell_type": "code",
   "execution_count": 21,
   "metadata": {
    "collapsed": false
   },
   "outputs": [
    {
     "data": {
      "text/html": [
       "<table><tr></tr></table>"
      ]
     },
     "execution_count": 21,
     "metadata": {},
     "output_type": "execute_result"
    }
   ],
   "source": [
    "%%cql truncate music.tracks_by_year"
   ]
  },
  {
   "cell_type": "code",
   "execution_count": 24,
   "metadata": {
    "collapsed": false
   },
   "outputs": [
    {
     "data": {
      "text/plain": [
       "org.apache.spark.sql.DataFrame = [dummy: string, track_count: int, album_year: int]"
      ]
     },
     "execution_count": 24,
     "metadata": {},
     "output_type": "execute_result"
    }
   ],
   "source": [
    "sqlContext.sql(\"insert into table music.tracks_by_year select 'dummy' as dummy, count(*) as track_count, album_year from tmp_tracks_by_album group by album_year\")"
   ]
  },
  {
   "cell_type": "code",
   "execution_count": 25,
   "metadata": {
    "collapsed": false
   },
   "outputs": [
    {
     "data": {
      "text/html": [
       "<table><tr><th>dummy</th><th>track_count</th><th>year</th></tr><tr><td>dummy</td><td>2200</td><td>1998</td></tr><tr><td>dummy</td><td>2170</td><td>2001</td></tr><tr><td>dummy</td><td>2039</td><td>1999</td></tr><tr><td>dummy</td><td>1985</td><td>2002</td></tr><tr><td>dummy</td><td>1980</td><td>2000</td></tr><tr><td>dummy</td><td>1708</td><td>1995</td></tr><tr><td>dummy</td><td>1607</td><td>1996</td></tr><tr><td>dummy</td><td>1604</td><td>1997</td></tr><tr><td>dummy</td><td>1544</td><td>1994</td></tr><tr><td>dummy</td><td>1355</td><td>1993</td></tr></table>"
      ]
     },
     "execution_count": 25,
     "metadata": {},
     "output_type": "execute_result"
    }
   ],
   "source": [
    "%%cql select * from music.tracks_by_year limit 10"
   ]
  },
  {
   "cell_type": "code",
   "execution_count": null,
   "metadata": {
    "collapsed": true
   },
   "outputs": [],
   "source": []
  }
 ],
 "metadata": {
  "kernelspec": {
   "display_name": "Spark-DSE Cluster",
   "language": "scala",
   "name": "spark-dse-cluster"
  },
  "language_info": {
   "name": "scala"
  }
 },
 "nbformat": 4,
 "nbformat_minor": 0
}
