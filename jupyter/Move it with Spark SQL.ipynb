{
 "cells": [
  {
   "cell_type": "markdown",
   "metadata": {},
   "source": [
    "### Set up the Cassandra CQL Context.  Set the default keyspace"
   ]
  },
  {
   "cell_type": "code",
   "execution_count": 5,
   "metadata": {
    "collapsed": true
   },
   "outputs": [],
   "source": [
    "import org.apache.spark.sql.cassandra.CassandraSQLContext\n",
    "val csc = new CassandraSQLContext(sc)\n",
    "csc setKeyspace \"music\""
   ]
  },
  {
   "cell_type": "code",
   "execution_count": 16,
   "metadata": {
    "collapsed": false
   },
   "outputs": [
    {
     "data": {
      "text/html": [
       "<table><tr></tr></table>"
      ]
     },
     "execution_count": 16,
     "metadata": {},
     "output_type": "execute_result"
    }
   ],
   "source": [
    "%%cql create table music.tracks_by_year (dummy text, year int, track_count int, primary key (dummy, track_count) ) with clustering order by (track_count desc)"
   ]
  },
  {
   "cell_type": "markdown",
   "metadata": {},
   "source": [
    "### Create a dataframe based on an SQL statement"
   ]
  },
  {
   "cell_type": "code",
   "execution_count": 40,
   "metadata": {
    "collapsed": false
   },
   "outputs": [],
   "source": [
    "val tmp = csc.sql(\"select 'dummy' as dummy, album_year as year, count(*) as track_count from tracks_by_album group by album_year\")"
   ]
  },
  {
   "cell_type": "code",
   "execution_count": 41,
   "metadata": {
    "collapsed": false
   },
   "outputs": [
    {
     "name": "stdout",
     "output_type": "stream",
     "text": [
      "+-----+----+-----------+\n",
      "|dummy|year|track_count|\n",
      "+-----+----+-----------+\n",
      "|dummy|1952|         10|\n",
      "|dummy|1956|         53|\n",
      "|dummy|1957|         21|\n",
      "|dummy|1958|         31|\n",
      "|dummy|1959|         28|\n",
      "|dummy|1960|         42|\n",
      "|dummy|1961|         86|\n",
      "|dummy|1962|        129|\n",
      "|dummy|1963|        101|\n",
      "|dummy|1964|        147|\n",
      "|dummy|1965|        203|\n",
      "|dummy|1966|         95|\n",
      "|dummy|1967|        244|\n",
      "|dummy|1968|        243|\n",
      "|dummy|1969|        326|\n",
      "|dummy|1970|        379|\n",
      "|dummy|1971|        420|\n",
      "|dummy|1972|        262|\n",
      "|dummy|1973|        443|\n",
      "|dummy|1974|        489|\n",
      "+-----+----+-----------+\n",
      "\n"
     ]
    }
   ],
   "source": [
    "tmp.show"
   ]
  },
  {
   "cell_type": "markdown",
   "metadata": {},
   "source": [
    "#### Register the dataframe as a temp table"
   ]
  },
  {
   "cell_type": "code",
   "execution_count": 43,
   "metadata": {
    "collapsed": false
   },
   "outputs": [],
   "source": [
    "tmp registerTempTable \"tmp_tracks_by_year\""
   ]
  },
  {
   "cell_type": "code",
   "execution_count": 44,
   "metadata": {
    "collapsed": false
   },
   "outputs": [
    {
     "data": {
      "text/plain": [
       "org.apache.spark.sql.DataFrame = [dummy: string, track_count: int, year: int]"
      ]
     },
     "execution_count": 44,
     "metadata": {},
     "output_type": "execute_result"
    }
   ],
   "source": [
    "csc.sql(\"insert into table music.tracks_by_year select dummy, track_count, year from tmp_tracks_by_year\")"
   ]
  },
  {
   "cell_type": "code",
   "execution_count": 46,
   "metadata": {
    "collapsed": false
   },
   "outputs": [
    {
     "data": {
      "text/html": [
       "<table><tr><th>dummy</th><th>track_count</th><th>year</th></tr><tr><td>dummy</td><td>2200</td><td>1998</td></tr><tr><td>dummy</td><td>2170</td><td>2001</td></tr><tr><td>dummy</td><td>2028</td><td>1999</td></tr><tr><td>dummy</td><td>1984</td><td>2002</td></tr><tr><td>dummy</td><td>1980</td><td>2000</td></tr><tr><td>dummy</td><td>1708</td><td>1995</td></tr><tr><td>dummy</td><td>1607</td><td>1996</td></tr><tr><td>dummy</td><td>1604</td><td>1997</td></tr><tr><td>dummy</td><td>1544</td><td>1994</td></tr><tr><td>dummy</td><td>1353</td><td>1993</td></tr></table>"
      ]
     },
     "execution_count": 46,
     "metadata": {},
     "output_type": "execute_result"
    }
   ],
   "source": [
    "%%cql select * from music.tracks_by_year limit 10"
   ]
  },
  {
   "cell_type": "markdown",
   "metadata": {},
   "source": [
    "### Or ... the one-liner technique. Lets save the data with a simple insert - select statement"
   ]
  },
  {
   "cell_type": "code",
   "execution_count": 48,
   "metadata": {
    "collapsed": false
   },
   "outputs": [
    {
     "data": {
      "text/html": [
       "<table><tr></tr></table>"
      ]
     },
     "execution_count": 48,
     "metadata": {},
     "output_type": "execute_result"
    }
   ],
   "source": [
    "%%cql truncate music.tracks_by_year"
   ]
  },
  {
   "cell_type": "code",
   "execution_count": 51,
   "metadata": {
    "collapsed": false
   },
   "outputs": [
    {
     "data": {
      "text/plain": [
       "org.apache.spark.sql.DataFrame = [dummy: string, track_count: int, year: int]"
      ]
     },
     "execution_count": 51,
     "metadata": {},
     "output_type": "execute_result"
    }
   ],
   "source": [
    "csc.sql(\"insert into table music.tracks_by_year select 'dummy' as dummy, album_year, count(*) as track_count from music.tracks_by_album group by album_year\")"
   ]
  },
  {
   "cell_type": "code",
   "execution_count": 52,
   "metadata": {
    "collapsed": false
   },
   "outputs": [
    {
     "data": {
      "text/html": [
       "<table><tr><th>dummy</th><th>track_count</th><th>year</th></tr><tr><td>dummy</td><td>2009</td><td>22</td></tr><tr><td>dummy</td><td>2008</td><td>11</td></tr><tr><td>dummy</td><td>2007</td><td>77</td></tr><tr><td>dummy</td><td>2006</td><td>229</td></tr><tr><td>dummy</td><td>2005</td><td>688</td></tr><tr><td>dummy</td><td>2004</td><td>1004</td></tr><tr><td>dummy</td><td>2003</td><td>1331</td></tr><tr><td>dummy</td><td>2002</td><td>1984</td></tr><tr><td>dummy</td><td>2001</td><td>2170</td></tr><tr><td>dummy</td><td>2000</td><td>1980</td></tr></table>"
      ]
     },
     "execution_count": 52,
     "metadata": {},
     "output_type": "execute_result"
    }
   ],
   "source": [
    "%%cql select * from music.tracks_by_year limit 10"
   ]
  },
  {
   "cell_type": "code",
   "execution_count": null,
   "metadata": {
    "collapsed": true
   },
   "outputs": [],
   "source": []
  }
 ],
 "metadata": {
  "kernelspec": {
   "display_name": "Spark-Cassandra (Scala 2.10.4)",
   "language": "scala",
   "name": "spark"
  },
  "language_info": {
   "name": "scala"
  }
 },
 "nbformat": 4,
 "nbformat_minor": 0
}
