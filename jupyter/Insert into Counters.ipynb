{
 "cells": [
  {
   "cell_type": "code",
   "execution_count": 28,
   "metadata": {
    "collapsed": true
   },
   "outputs": [],
   "source": [
    "case class Track(album_title: String,\n",
    "album_year:Int, track_number:Int,\n",
    "album_genre: Option[String],\n",
    "performer: Option[String],\n",
    "track_title: Option[String])"
   ]
  },
  {
   "cell_type": "code",
   "execution_count": 42,
   "metadata": {
    "collapsed": false
   },
   "outputs": [
    {
     "data": {
      "text/html": [
       "<table><tr></tr></table>"
      ]
     },
     "execution_count": 42,
     "metadata": {},
     "output_type": "execute_result"
    }
   ],
   "source": [
    "%%cql create table if not exists music.track_counts (album_title text primary key, track_count counter)"
   ]
  },
  {
   "cell_type": "code",
   "execution_count": 30,
   "metadata": {
    "collapsed": false
   },
   "outputs": [
    {
     "name": "stdout",
     "output_type": "stream",
     "text": [
      "Track(Duos For Violin and Cello,2000,1,Some(Classical),Some(Nigel Kennedy),Some(Sonata for Violin and Cello - Allegro))\n",
      "Track(Duos For Violin and Cello,2000,2,Some(Classical),Some(Nigel Kennedy),Some(Sonata for Violin and Cello - Tres vif))\n",
      "Track(Duos For Violin and Cello,2000,3,Some(Classical),Some(Nigel Kennedy),Some(Sonata for Violin and Cello - Lent))\n",
      "Track(Duos For Violin and Cello,2000,4,Some(Classical),Some(Nigel Kennedy),Some(Sonata for Violin and Cello - Vif, avec entrain))\n",
      "Track(Duos For Violin and Cello,2000,5,Some(Classical),Some(Nigel Kennedy),Some(Passacaglia))\n",
      "Track(Duos For Violin and Cello,2000,6,Some(Classical),Some(Nigel Kennedy),Some(Duo for Violin and Cello Op. 7 - Allegro serioso, non troppo))\n",
      "Track(Duos For Violin and Cello,2000,7,Some(Classical),Some(Nigel Kennedy),Some(Duo for Violin and Cello Op. 7 - Adagio-Andante-Tempo I))\n",
      "Track(Duos For Violin and Cello,2000,8,Some(Classical),Some(Nigel Kennedy),Some(Duo for Violin and Cello Op. 7 - Maestoso e largamente, ma non troppo lento-Presto))\n",
      "Track(Duos For Violin and Cello,2000,9,Some(Classical),Some(Nigel Kennedy),Some(Two-Part Intervention No. 6 in E))\n",
      "Track(Golden Boy Elvis,1981,1,Some(Rock),Some(Elvis Presley),Some(She's Not You))\n"
     ]
    }
   ],
   "source": [
    "val tracks = sc.cassandraTable[Track](\"music\",\"tracks_by_album\")\n",
    "tracks take 10 foreach println"
   ]
  },
  {
   "cell_type": "code",
   "execution_count": 31,
   "metadata": {
    "collapsed": false
   },
   "outputs": [
    {
     "name": "stdout",
     "output_type": "stream",
     "text": [
      "(Famous Last Words,9)\n",
      "(Amused to Death,14)\n",
      "(my big hero,10)\n",
      "(The Beginning Years,9)\n",
      "(Southern By The Grace Of God - Tribute Tour 1987,11)\n"
     ]
    }
   ],
   "source": [
    "val track_counts = tracks.map(t => (t.album_title, 1)).reduceByKey(_+_)\n",
    "track_counts take 5 foreach println"
   ]
  },
  {
   "cell_type": "markdown",
   "metadata": {},
   "source": [
    "### Now saveToCassandra will update the counter column"
   ]
  },
  {
   "cell_type": "code",
   "execution_count": 46,
   "metadata": {
    "collapsed": true
   },
   "outputs": [],
   "source": [
    "track_counts.saveToCassandra(\"music\",\"track_counts\")"
   ]
  },
  {
   "cell_type": "code",
   "execution_count": 50,
   "metadata": {
    "collapsed": false
   },
   "outputs": [
    {
     "data": {
      "text/html": [
       "<table><tr><th>album_title</th><th>track_count</th></tr><tr><td>Success Hasn't Spoiled Me Yet</td><td>36</td></tr><tr><td>Primitive</td><td>36</td></tr><tr><td>Sheryl Crow</td><td>39</td></tr><tr><td>Wonder What's Next</td><td>33</td></tr><tr><td>The Passionate Kind</td><td>30</td></tr><tr><td>Moon Safari</td><td>30</td></tr><tr><td>Half Hour of Power</td><td>33</td></tr><tr><td>Elvis TV Special</td><td>78</td></tr><tr><td>Bitter And Twisted</td><td>36</td></tr><tr><td>80's Megamix</td><td>120</td></tr></table>"
      ]
     },
     "execution_count": 50,
     "metadata": {},
     "output_type": "execute_result"
    }
   ],
   "source": [
    "%%cql select * from music.track_counts limit 10"
   ]
  },
  {
   "cell_type": "markdown",
   "metadata": {},
   "source": [
    "### If you run it again, the counts all get incemented"
   ]
  },
  {
   "cell_type": "code",
   "execution_count": 52,
   "metadata": {
    "collapsed": true
   },
   "outputs": [],
   "source": [
    "track_counts.saveToCassandra(\"music\",\"track_counts\")"
   ]
  },
  {
   "cell_type": "code",
   "execution_count": 51,
   "metadata": {
    "collapsed": false
   },
   "outputs": [
    {
     "data": {
      "text/html": [
       "<table><tr><th>album_title</th><th>track_count</th></tr><tr><td>Success Hasn't Spoiled Me Yet</td><td>36</td></tr><tr><td>Primitive</td><td>36</td></tr><tr><td>Sheryl Crow</td><td>39</td></tr><tr><td>Wonder What's Next</td><td>33</td></tr><tr><td>The Passionate Kind</td><td>30</td></tr><tr><td>Moon Safari</td><td>30</td></tr><tr><td>Half Hour of Power</td><td>33</td></tr><tr><td>Elvis TV Special</td><td>78</td></tr><tr><td>Bitter And Twisted</td><td>36</td></tr><tr><td>80's Megamix</td><td>120</td></tr></table>"
      ]
     },
     "execution_count": 51,
     "metadata": {},
     "output_type": "execute_result"
    }
   ],
   "source": [
    "%%cql select * from music.track_counts limit 10"
   ]
  },
  {
   "cell_type": "code",
   "execution_count": null,
   "metadata": {
    "collapsed": true
   },
   "outputs": [],
   "source": []
  }
 ],
 "metadata": {
  "kernelspec": {
   "display_name": "Spark 1.2.1 (Scala 2.10.4)",
   "language": "scala",
   "name": "spark"
  },
  "language_info": {
   "name": "scala"
  }
 },
 "nbformat": 4,
 "nbformat_minor": 0
}
