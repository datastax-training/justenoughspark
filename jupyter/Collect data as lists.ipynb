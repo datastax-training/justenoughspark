{
 "cells": [
  {
   "cell_type": "markdown",
   "metadata": {},
   "source": [
    "## Lets \"pivot\" data and nest it into a list.\n",
    "We currently have our tracks_by_album table modeled as such:\n",
    "\n",
    "````\n",
    "CREATE TABLE music.tracks_by_album (\n",
    "    album_title text,\n",
    "    album_year int,\n",
    "    track_number int,\n",
    "    album_genre text static,\n",
    "    performer text static,\n",
    "    track_title text,\n",
    "    PRIMARY KEY ((album_title, album_year), track_number)\n",
    "````\n",
    "\n",
    "Let's model it as one partition per album, and the track titles in a list\n"
   ]
  },
  {
   "cell_type": "code",
   "execution_count": null,
   "metadata": {
    "collapsed": false
   },
   "outputs": [],
   "source": [
    "%%Cql create table if not exists music.albums (album_title text,\n",
    "album_genre text,\n",
    "album_year int,\n",
    "performer text,\n",
    "tracks list<text>, \n",
    "primary key ((album_title, album_year)) )"
   ]
  },
  {
   "cell_type": "code",
   "execution_count": null,
   "metadata": {
    "collapsed": false
   },
   "outputs": [],
   "source": [
    "%%Cql truncate music.albums"
   ]
  },
  {
   "cell_type": "markdown",
   "metadata": {},
   "source": [
    "### Now a handy case class"
   ]
  },
  {
   "cell_type": "code",
   "execution_count": null,
   "metadata": {
    "collapsed": false
   },
   "outputs": [],
   "source": [
    "case class Track(album_title: String,\n",
    "album_year:Int,\n",
    "track_number:Int,\n",
    "album_genre: Option[String],\n",
    "performer: Option[String],\n",
    "track_title: String)"
   ]
  },
  {
   "cell_type": "markdown",
   "metadata": {},
   "source": [
    "### And an RDD to pick up the original data"
   ]
  },
  {
   "cell_type": "code",
   "execution_count": null,
   "metadata": {
    "collapsed": true
   },
   "outputs": [],
   "source": [
    "val tracks = sc.cassandraTable[Track](\"music\",\"tracks_by_album\")"
   ]
  },
  {
   "cell_type": "code",
   "execution_count": null,
   "metadata": {
    "collapsed": false
   },
   "outputs": [],
   "source": [
    "tracks.first"
   ]
  },
  {
   "cell_type": "markdown",
   "metadata": {},
   "source": [
    "## Create a Pair RDD with key, track name.  The key in this case (album_title, year).  So we want tuples ((album_title, year), track_title).  Also filter out tracks that are null"
   ]
  },
  {
   "cell_type": "code",
   "execution_count": null,
   "metadata": {
    "collapsed": false
   },
   "outputs": [],
   "source": [
    "val track_pairs = tracks.filter(t => t.track_title != null).\n",
    "map(t => ((t.album_title, t.album_year), t.track_title))"
   ]
  },
  {
   "cell_type": "code",
   "execution_count": null,
   "metadata": {
    "collapsed": false
   },
   "outputs": [],
   "source": [
    "track_pairs.first"
   ]
  },
  {
   "cell_type": "markdown",
   "metadata": {},
   "source": [
    "## Use groupByKey, to convert it to (key, collection of track names)"
   ]
  },
  {
   "cell_type": "code",
   "execution_count": null,
   "metadata": {
    "collapsed": true
   },
   "outputs": [],
   "source": [
    "val albums_with_tracks = track_pairs.groupByKey"
   ]
  },
  {
   "cell_type": "code",
   "execution_count": null,
   "metadata": {
    "collapsed": false
   },
   "outputs": [],
   "source": [
    "albums_with_tracks.first\n"
   ]
  },
  {
   "cell_type": "markdown",
   "metadata": {},
   "source": [
    "## Flatten it out so we have (album_title, year, collection of tracks)"
   ]
  },
  {
   "cell_type": "code",
   "execution_count": null,
   "metadata": {
    "collapsed": false
   },
   "outputs": [],
   "source": [
    "val albums_with_tracks2 = albums_with_tracks.\n",
    "map{ case ((album, year), tracks) => (album, year, tracks) }"
   ]
  },
  {
   "cell_type": "code",
   "execution_count": null,
   "metadata": {
    "collapsed": false
   },
   "outputs": [],
   "source": [
    "albums_with_tracks2.first.toString"
   ]
  },
  {
   "cell_type": "code",
   "execution_count": null,
   "metadata": {
    "collapsed": false
   },
   "outputs": [],
   "source": [
    "albums_with_tracks2.saveToCassandra(\"music\",\"albums\",\n",
    "            SomeColumns(\"album_title\", \"album_year\", \"tracks\"))"
   ]
  },
  {
   "cell_type": "markdown",
   "metadata": {},
   "source": [
    "## ... And check it out"
   ]
  },
  {
   "cell_type": "code",
   "execution_count": null,
   "metadata": {
    "collapsed": false
   },
   "outputs": [],
   "source": [
    "%%Cql select * from music.albums limit 5;"
   ]
  },
  {
   "cell_type": "markdown",
   "metadata": {},
   "source": [
    "## Now we need to fill in genre and year.  Let's just upsert them in!  This will also insert any albums with no tracks"
   ]
  },
  {
   "cell_type": "code",
   "execution_count": null,
   "metadata": {
    "collapsed": false
   },
   "outputs": [],
   "source": [
    "tracks.saveToCassandra(\"music\",\"albums\",\n",
    "SomeColumns(\"album_title\",\"album_year\",\"album_genre\",\"performer\"))"
   ]
  },
  {
   "cell_type": "code",
   "execution_count": null,
   "metadata": {
    "collapsed": false
   },
   "outputs": [],
   "source": [
    "%%Cql select * from music.albums limit 5;"
   ]
  },
  {
   "cell_type": "code",
   "execution_count": null,
   "metadata": {
    "collapsed": true
   },
   "outputs": [],
   "source": []
  }
 ],
 "metadata": {
  "kernelspec": {
   "display_name": "Spark-DSE Cluster",
   "language": "scala",
   "name": "spark-dse-cluster"
  },
  "language_info": {
   "name": "scala"
  }
 },
 "nbformat": 4,
 "nbformat_minor": 0
}
