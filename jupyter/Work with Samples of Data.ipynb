{
 "cells": [
  {
   "cell_type": "markdown",
   "metadata": {},
   "source": [
    "## Use sample to work on a subset of the data\n"
   ]
  },
  {
   "cell_type": "markdown",
   "metadata": {},
   "source": [
    "````\n",
    "CREATE TABLE music.tracks_by_album (\n",
    "    album_title text,\n",
    "    album_year int,\n",
    "    track_number int,\n",
    "    album_genre text static,\n",
    "    performer text static,\n",
    "    track_title text,\n",
    "    PRIMARY KEY ((album_title, album_year), track_number)\n",
    "````"
   ]
  },
  {
   "cell_type": "code",
   "execution_count": null,
   "metadata": {
    "collapsed": true
   },
   "outputs": [],
   "source": [
    "case class Track(album_title: String,\n",
    "album_year:Int, number:Int,\n",
    "album_genre: Option[String],\n",
    "performer: Option[String],\n",
    "track_title: String)"
   ]
  },
  {
   "cell_type": "code",
   "execution_count": null,
   "metadata": {
    "collapsed": true
   },
   "outputs": [],
   "source": [
    "val tracks = sc.cassandraTable(\"music\",\"tracks_by_album\").as(Track)"
   ]
  },
  {
   "cell_type": "markdown",
   "metadata": {
    "collapsed": true
   },
   "source": [
    "### Let's create an RDD of 1% of the tracks"
   ]
  },
  {
   "cell_type": "code",
   "execution_count": null,
   "metadata": {
    "collapsed": false
   },
   "outputs": [],
   "source": [
    "val some_tracks = tracks.sample(false, 0.01)\n",
    "some_tracks.count"
   ]
  },
  {
   "cell_type": "code",
   "execution_count": null,
   "metadata": {
    "collapsed": false
   },
   "outputs": [],
   "source": [
    "some_tracks.cache"
   ]
  },
  {
   "cell_type": "markdown",
   "metadata": {},
   "source": [
    "### The cache lazy loads so lets's populate it\n",
    "we can just count all of the rows"
   ]
  },
  {
   "cell_type": "code",
   "execution_count": null,
   "metadata": {
    "collapsed": false
   },
   "outputs": [],
   "source": [
    "some_tracks.count"
   ]
  }
 ],
 "metadata": {
  "kernelspec": {
   "display_name": "Spark-DSE Cluster",
   "language": "scala",
   "name": "spark-dse-cluster"
  },
  "language_info": {
   "name": "scala"
  }
 },
 "nbformat": 4,
 "nbformat_minor": 0
}
