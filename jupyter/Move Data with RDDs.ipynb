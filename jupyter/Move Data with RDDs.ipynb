{
 "cells": [
  {
   "cell_type": "markdown",
   "metadata": {},
   "source": [
    "## Remodel the data to search albums by genre\n",
    "We would like another view of the data where we can query by genre.  It's easy to move data from one table to another with Spark"
   ]
  },
  {
   "cell_type": "markdown",
   "metadata": {},
   "source": [
    "### First create a table called albums_by_genre\n"
   ]
  },
  {
   "cell_type": "code",
   "execution_count": 140,
   "metadata": {
    "collapsed": true
   },
   "outputs": [],
   "source": [
    "%%Cql create table if not exists music.albums_by_genre(album_genre text,\n",
    "album_title text, performer text, album_year int, primary key(album_genre, album_title, album_year))"
   ]
  },
  {
   "cell_type": "markdown",
   "metadata": {},
   "source": [
    "### Create an RDD of tuples based on the existing table"
   ]
  },
  {
   "cell_type": "code",
   "execution_count": 141,
   "metadata": {
    "collapsed": true
   },
   "outputs": [],
   "source": [
    "case class Album (album_title: String,\n",
    "                   album_genre: Option[String],\n",
    "                   performer: String,\n",
    "                   album_year: Int)"
   ]
  },
  {
   "cell_type": "code",
   "execution_count": 142,
   "metadata": {
    "collapsed": true
   },
   "outputs": [],
   "source": [
    "var albums = sc.cassandraTable(\"music\",\"tracks_by_album\").select(\"album_title\",\"album_genre\",\"performer\",\"album_year\").as(Album)"
   ]
  },
  {
   "cell_type": "code",
   "execution_count": 143,
   "metadata": {
    "collapsed": true
   },
   "outputs": [],
   "source": [
    "albums.first"
   ]
  },
  {
   "cell_type": "markdown",
   "metadata": {},
   "source": [
    "### Some genres are null so lets map null to the string `<null>`\n",
    "Let's prove there are some nulls\n"
   ]
  },
  {
   "cell_type": "code",
   "execution_count": 144,
   "metadata": {
    "collapsed": true
   },
   "outputs": [],
   "source": [
    "albums.filter(a => a.album_genre == None).count"
   ]
  },
  {
   "cell_type": "markdown",
   "metadata": {},
   "source": [
    "Now use pattern matching to convert None to \"null\"\n",
    "The case class has a copy function, where we just pass functions in describing what changed"
   ]
  },
  {
   "cell_type": "code",
   "execution_count": 145,
   "metadata": {
    "collapsed": true
   },
   "outputs": [],
   "source": [
    "val nonull_albums = albums.map( a => a.copy( album_genre = a.album_genre match {\n",
    "   case None => Some(\"<null>\")\n",
    "   case _ => a.album_genre }\n",
    "   ))"
   ]
  },
  {
   "cell_type": "markdown",
   "metadata": {},
   "source": [
    "### Save it to the new table\n",
    "- We are using Cassandra's UPSERT behavior to de-duplicate the data"
   ]
  },
  {
   "cell_type": "code",
   "execution_count": 147,
   "metadata": {
    "collapsed": true
   },
   "outputs": [],
   "source": [
    "nonull_albums.saveToCassandra(\"music\",\"albums_by_genre\",SomeColumns(\"album_genre\",\"album_title\",\"performer\", \"album_year\"))"
   ]
  },
  {
   "cell_type": "markdown",
   "metadata": {},
   "source": [
    "## View the results"
   ]
  },
  {
   "cell_type": "code",
   "execution_count": 149,
   "metadata": {
    "collapsed": false
   },
   "outputs": [
    {
     "data": {
      "text/html": [
       "<table><tr><th>album_genre</th><th>album_title</th><th>album_year</th><th>performer</th><tr><tr><td>Disco</td><td>ABBA</td><td>1975</td><td>ABBA</td></tr><tr><td>Disco</td><td>ABBA - Live</td><td>1986</td><td>ABBA</td></tr><tr><td>Disco</td><td>ABBA Gold - Greatest Hits</td><td>1992</td><td>ABBA</td></tr><tr><td>Disco</td><td>Arrival</td><td>1976</td><td>ABBA</td></tr><tr><td>Disco</td><td>Disco Fox Party Classics</td><td>2005</td><td>C.C. Catch</td></tr></table>"
      ]
     },
     "execution_count": 149,
     "metadata": {},
     "output_type": "execute_result"
    }
   ],
   "source": [
    "%%Cql select * from music.albums_by_genre limit 5"
   ]
  },
  {
   "cell_type": "code",
   "execution_count": null,
   "metadata": {
    "collapsed": true
   },
   "outputs": [],
   "source": []
  }
 ],
 "metadata": {
  "kernelspec": {
   "display_name": "Spark-DSE Cluster (Scala 2.10.4)",
   "language": "scala",
   "name": "spark-dse-cluster"
  },
  "language_info": {
   "name": "scala"
  }
 },
 "nbformat": 4,
 "nbformat_minor": 0
}
