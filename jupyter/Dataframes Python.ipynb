{
 "cells": [
  {
   "cell_type": "code",
   "execution_count": 2,
   "metadata": {
    "collapsed": false
   },
   "outputs": [
    {
     "data": {
      "text/html": [
       "<table><tr><th>album_title</th><th>album_year</th><th>track_number</th><th>album_genre</th><th>performer</th><th>track_title</th></tr><tr><td>Duos For Violin and Cello</td><td>2000</td><td>1</td><td>Classical</td><td>Nigel Kennedy</td><td>Sonata for Violin and Cello - Allegro</td></tr><tr><td>Duos For Violin and Cello</td><td>2000</td><td>2</td><td>Classical</td><td>Nigel Kennedy</td><td>Sonata for Violin and Cello - Tres vif</td></tr><tr><td>Duos For Violin and Cello</td><td>2000</td><td>3</td><td>Classical</td><td>Nigel Kennedy</td><td>Sonata for Violin and Cello - Lent</td></tr><tr><td>Duos For Violin and Cello</td><td>2000</td><td>4</td><td>Classical</td><td>Nigel Kennedy</td><td>Sonata for Violin and Cello - Vif, avec entrain</td></tr><tr><td>Duos For Violin and Cello</td><td>2000</td><td>5</td><td>Classical</td><td>Nigel Kennedy</td><td>Passacaglia</td></tr></table>"
      ]
     },
     "execution_count": 2,
     "metadata": {},
     "output_type": "execute_result"
    }
   ],
   "source": [
    "%%cql select * from music.tracks_by_album limit 5"
   ]
  },
  {
   "cell_type": "markdown",
   "metadata": {},
   "source": [
    "### Create a SQL Context\n",
    " - The sqlContext already exists"
   ]
  },
  {
   "cell_type": "markdown",
   "metadata": {},
   "source": [
    "### Create a dataframe on a cassandra table"
   ]
  },
  {
   "cell_type": "code",
   "execution_count": 5,
   "metadata": {
    "collapsed": false
   },
   "outputs": [],
   "source": [
    "df = sqlContext.read\\\n",
    "   .format(\"org.apache.spark.sql.cassandra\")\\\n",
    "   .options(keyspace = \"music\", table = \"tracks_by_album\")\\\n",
    "   .load()\t"
   ]
  },
  {
   "cell_type": "markdown",
   "metadata": {},
   "source": [
    "### Explain the query plan and view some data"
   ]
  },
  {
   "cell_type": "code",
   "execution_count": 6,
   "metadata": {
    "collapsed": false
   },
   "outputs": [
    {
     "name": "stdout",
     "output_type": "stream",
     "text": [
      "root\n",
      " |-- album_title: string (nullable = true)\n",
      " |-- album_year: integer (nullable = true)\n",
      " |-- track_number: integer (nullable = true)\n",
      " |-- album_genre: string (nullable = true)\n",
      " |-- performer: string (nullable = true)\n",
      " |-- track_title: string (nullable = true)\n",
      "\n"
     ]
    }
   ],
   "source": [
    "df.printSchema()"
   ]
  },
  {
   "cell_type": "code",
   "execution_count": 7,
   "metadata": {
    "collapsed": false
   },
   "outputs": [
    {
     "name": "stdout",
     "output_type": "stream",
     "text": [
      "PhysicalRDD [album_title#0,album_year#1,track_number#2,album_genre#3,performer#4,track_title#5], MapPartitionsRDD[2] at executedPlan at NativeMethodAccessorImpl.java:-2\n",
      "\n"
     ]
    }
   ],
   "source": [
    "df.explain()"
   ]
  },
  {
   "cell_type": "code",
   "execution_count": 8,
   "metadata": {
    "collapsed": false
   },
   "outputs": [
    {
     "name": "stdout",
     "output_type": "stream",
     "text": [
      "+--------------------+----------+------------+-----------+-------------+--------------------+\n",
      "|         album_title|album_year|track_number|album_genre|    performer|         track_title|\n",
      "+--------------------+----------+------------+-----------+-------------+--------------------+\n",
      "|Duos For Violin a...|      2000|           1|  Classical|Nigel Kennedy|Sonata for Violin...|\n",
      "|Duos For Violin a...|      2000|           2|  Classical|Nigel Kennedy|Sonata for Violin...|\n",
      "|Duos For Violin a...|      2000|           3|  Classical|Nigel Kennedy|Sonata for Violin...|\n",
      "|Duos For Violin a...|      2000|           4|  Classical|Nigel Kennedy|Sonata for Violin...|\n",
      "|Duos For Violin a...|      2000|           5|  Classical|Nigel Kennedy|         Passacaglia|\n",
      "|Duos For Violin a...|      2000|           6|  Classical|Nigel Kennedy|Duo for Violin an...|\n",
      "|Duos For Violin a...|      2000|           7|  Classical|Nigel Kennedy|Duo for Violin an...|\n",
      "|Duos For Violin a...|      2000|           8|  Classical|Nigel Kennedy|Duo for Violin an...|\n",
      "|Duos For Violin a...|      2000|           9|  Classical|Nigel Kennedy|Two-Part Interven...|\n",
      "|    Golden Boy Elvis|      1981|           1|       Rock|Elvis Presley|       She's Not You|\n",
      "|    Golden Boy Elvis|      1981|           2|       Rock|Elvis Presley|    Return To Sender|\n",
      "|    Golden Boy Elvis|      1981|           3|       Rock|Elvis Presley|Joshua Fit The Ba...|\n",
      "|    Golden Boy Elvis|      1981|           4|       Rock|Elvis Presley|               Don't|\n",
      "|    Golden Boy Elvis|      1981|           5|       Rock|Elvis Presley|        Tutti Frutti|\n",
      "|    Golden Boy Elvis|      1981|           6|       Rock|Elvis Presley|   It's Now Or Never|\n",
      "|    Golden Boy Elvis|      1981|           7|       Rock|Elvis Presley|           Surrender|\n",
      "|    Golden Boy Elvis|      1981|           8|       Rock|Elvis Presley|         Do The Clam|\n",
      "|    Golden Boy Elvis|      1981|           9|       Rock|Elvis Presley|       Kiss Me Quick|\n",
      "|    Golden Boy Elvis|      1981|          10|       Rock|Elvis Presley|        Such A Night|\n",
      "|    Golden Boy Elvis|      1981|          11|       Rock|Elvis Presley|      Blueberry Hill|\n",
      "+--------------------+----------+------------+-----------+-------------+--------------------+\n",
      "\n"
     ]
    }
   ],
   "source": [
    "df.show()"
   ]
  },
  {
   "cell_type": "code",
   "execution_count": 10,
   "metadata": {
    "collapsed": false
   },
   "outputs": [
    {
     "name": "stdout",
     "output_type": "stream",
     "text": [
      "+----------+\n",
      "|album_year|\n",
      "+----------+\n",
      "|      1952|\n",
      "|      1956|\n",
      "|      1957|\n",
      "|      1958|\n",
      "|      1959|\n",
      "|      1960|\n",
      "|      1961|\n",
      "|      1962|\n",
      "|      1963|\n",
      "|      1964|\n",
      "|      1965|\n",
      "|      1966|\n",
      "|      1967|\n",
      "|      1968|\n",
      "|      1969|\n",
      "|      1970|\n",
      "|      1971|\n",
      "|      1972|\n",
      "|      1973|\n",
      "|      1974|\n",
      "+----------+\n",
      "\n"
     ]
    }
   ],
   "source": [
    "df.select(\"album_year\").distinct().show()"
   ]
  },
  {
   "cell_type": "code",
   "execution_count": 11,
   "metadata": {
    "collapsed": false,
    "scrolled": true
   },
   "outputs": [
    {
     "name": "stdout",
     "output_type": "stream",
     "text": [
      "+----------+-----+\n",
      "|album_year|count|\n",
      "+----------+-----+\n",
      "|      1952|   10|\n",
      "|      1956|   53|\n",
      "|      1957|   21|\n",
      "|      1958|   31|\n",
      "|      1959|   28|\n",
      "|      1960|   42|\n",
      "|      1961|   86|\n",
      "|      1962|  129|\n",
      "|      1963|  101|\n",
      "|      1964|  147|\n",
      "|      1965|  203|\n",
      "|      1966|   95|\n",
      "|      1967|  244|\n",
      "|      1968|  243|\n",
      "|      1969|  326|\n",
      "|      1970|  379|\n",
      "|      1971|  420|\n",
      "|      1972|  262|\n",
      "|      1973|  443|\n",
      "|      1974|  489|\n",
      "+----------+-----+\n",
      "\n"
     ]
    }
   ],
   "source": [
    "df.groupBy(\"album_year\").count().show()"
   ]
  },
  {
   "cell_type": "markdown",
   "metadata": {},
   "source": [
    "### Group By Decade\n",
    "You can use various spark sql functions.  Let's use *floor*."
   ]
  },
  {
   "cell_type": "code",
   "execution_count": 15,
   "metadata": {
    "collapsed": false
   },
   "outputs": [],
   "source": [
    "from pyspark.sql.functions import *"
   ]
  },
  {
   "cell_type": "code",
   "execution_count": 17,
   "metadata": {
    "collapsed": false
   },
   "outputs": [
    {
     "name": "stdout",
     "output_type": "stream",
     "text": [
      "+-------------------------------+-----+\n",
      "|(FLOOR((album_year / 10)) * 10)|count|\n",
      "+-------------------------------+-----+\n",
      "|                         2000.0| 9497|\n",
      "|                         1950.0|  143|\n",
      "|                         1960.0| 1616|\n",
      "|                         1970.0| 4346|\n",
      "|                         1980.0| 6390|\n",
      "|                         1990.0|14759|\n",
      "+-------------------------------+-----+\n",
      "\n"
     ]
    }
   ],
   "source": [
    "df.groupBy(floor(col(\"album_year\") / 10) * 10).count().show()"
   ]
  },
  {
   "cell_type": "markdown",
   "metadata": {
    "collapsed": true
   },
   "source": [
    "### Clean it up"
   ]
  },
  {
   "cell_type": "code",
   "execution_count": 21,
   "metadata": {
    "collapsed": false
   },
   "outputs": [
    {
     "name": "stdout",
     "output_type": "stream",
     "text": [
      "+------+-----+\n",
      "|decade|count|\n",
      "+------+-----+\n",
      "|  1950|  143|\n",
      "|  1960| 1616|\n",
      "|  1970| 4346|\n",
      "|  1980| 6390|\n",
      "|  1990|14759|\n",
      "|  2000| 9497|\n",
      "+------+-----+\n",
      "\n"
     ]
    }
   ],
   "source": [
    "tmp = df.groupBy((floor(col(\"album_year\") / 10) * 10).cast(\"int\").alias(\"decade\")).count()\n",
    "tmp.show()"
   ]
  },
  {
   "cell_type": "code",
   "execution_count": 25,
   "metadata": {
    "collapsed": false
   },
   "outputs": [
    {
     "name": "stdout",
     "output_type": "stream",
     "text": [
      "+------+-----------+\n",
      "|decade|album_count|\n",
      "+------+-----------+\n",
      "|  1950|        143|\n",
      "|  1960|       1616|\n",
      "|  1970|       4346|\n",
      "|  1980|       6390|\n",
      "|  1990|      14759|\n",
      "|  2000|       9497|\n",
      "+------+-----------+\n",
      "\n"
     ]
    }
   ],
   "source": [
    "count_by_decade = tmp.select(col(\"decade\"), col(\"count\").alias(\"album_count\"))\n",
    "count_by_decade.show()"
   ]
  },
  {
   "cell_type": "markdown",
   "metadata": {},
   "source": [
    "### Save to a new table"
   ]
  },
  {
   "cell_type": "code",
   "execution_count": 30,
   "metadata": {
    "collapsed": false
   },
   "outputs": [],
   "source": [
    "count_by_decade.write.format(\"org.apache.spark.sql.cassandra\")\\\n",
    ".options(table = \"albums_by_decade\", keyspace = \"steve\")\\\n",
    ".mode('overwrite')\\\n",
    ".save()"
   ]
  },
  {
   "cell_type": "code",
   "execution_count": null,
   "metadata": {
    "collapsed": true
   },
   "outputs": [],
   "source": []
  }
 ],
 "metadata": {
  "kernelspec": {
   "display_name": "Pyspark DSE Cluster",
   "language": "python",
   "name": "pyspark-dse-cluster"
  },
  "language_info": {
   "codemirror_mode": {
    "name": "ipython",
    "version": 2
   },
   "file_extension": ".py",
   "mimetype": "text/x-python",
   "name": "python",
   "nbconvert_exporter": "python",
   "pygments_lexer": "ipython2",
   "version": "2.7.9"
  }
 },
 "nbformat": 4,
 "nbformat_minor": 0
}
